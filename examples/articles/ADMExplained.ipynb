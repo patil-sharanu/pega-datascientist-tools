{
    "cells": [
        {
            "attachments": {},
            "cell_type": "markdown",
            "metadata": {},
            "source": [
                "# ADM Explained\n",
                "\n",
                "__Pega__\n",
                "\n",
                "__2023-03-15__\n",
                "\n",
                "This notebook shows exactly how all the values in an ADM model report\n",
                "are calculated. It also shows how the propensity is calculated for a\n",
                "particular customer.\n",
                "\n",
                "We use one of the shipped datamart exports for the example. This is a\n",
                "model very similar to one used in some of the ADM PowerPoint/Excel deep\n",
                "dive examples. You can change this notebook to apply to your own data.\n",
                "\n"
            ]
        },
        {
            "cell_type": "code",
            "execution_count": null,
            "metadata": {
                "nbsphinx": "hidden"
            },
            "outputs": [],
            "source": [
                "# These lines are only for rendering in the docs, and are hidden through Jupyter tags\n",
                "# Do not run if you're running the notebook seperately\n",
                "\n",
                "import plotly.io as pio\n",
                "\n",
                "pio.renderers.default = \"notebook_connected\"\n",
                "\n",
                "import sys\n",
                "import re\n",
                "\n",
                "sys.path.append(\"../../../\")\n",
                "sys.path.append(\"../../python\")\n",
                "import pandas as pd\n",
                "\n",
                "pd.set_option(\"display.max_colwidth\", 0)\n",
                "\n",
                "format_binning_derived = {\n",
                "    \"Positives\": \"{:.0f}\",\n",
                "    \"Negatives\": \"{:.0f}\",\n",
                "    \"Responses %\": \"{:.2f}\",\n",
                "    \"Positives %\": \"{:.2f}\",\n",
                "    \"Negatives %\": \"{:.2f}\",\n",
                "    \"Propensity\": \"{:.4f}\",\n",
                "}\n",
                "format_lift = {\"Positives\": \"{:.0f}\", \"Negatives\": \"{:.0f}\", \"Lift\": \"{:.4f}\"}\n",
                "format_z_ratio = {\n",
                "    \"Positives\": \"{:.0f}\",\n",
                "    \"Negatives\": \"{:.0f}\",\n",
                "    \"Positives %\": \"{:.2f}\",\n",
                "    \"Negatives %\": \"{:.2f}\",\n",
                "    \"ZRatio\": \"{:.4f}\",\n",
                "}\n",
                "format_log_odds = {\n",
                "    \"Positives\": \"{:.0f}\",\n",
                "    \"Negatives\": \"{:.0f}\",\n",
                "    \"Positives %\": \"{:.2f}\",\n",
                "    \"LogOdds %\": \"{:.4f}\",\n",
                "    \"ModifiedLogOdds\": \"{:.4f}\",\n",
                "}\n",
                "format_classifier = {\"Positives\": \"{:.0f}\", \"Negatives\": \"{:.0f}\"}"
            ]
        },
        {
            "cell_type": "code",
            "execution_count": 15,
            "metadata": {},
            "outputs": [],
            "source": [
                "import polars as pl\n",
                "import numpy as np\n",
                "from plotly.subplots import make_subplots\n",
                "import plotly.graph_objects as go\n",
                "import plotly.express as px\n",
                "from typing import List\n",
                "from math import log\n",
                "from great_tables import GT\n",
                "from pdstools import datasets, cdh_utils\n",
                "\n",
                "pl.Config.set_fmt_str_lengths(100);"
            ]
        },
        {
            "cell_type": "code",
            "execution_count": 3,
            "metadata": {},
            "outputs": [],
            "source": [
                "model_name = \"AutoNew84Months\"\n",
                "predictor_name = \"Customer.NetWealth\"\n",
                "channel = \"Web\""
            ]
        },
        {
            "attachments": {},
            "cell_type": "markdown",
            "metadata": {},
            "source": [
                "For the example we pick one particular model over a channel.\n",
                "To explain the ADM model report, we use one of the active predictors as an\n",
                "example. Swap for any other predictor when using different data."
            ]
        },
        {
            "cell_type": "code",
            "execution_count": 7,
            "metadata": {},
            "outputs": [],
            "source": [
                "dm = datasets.cdh_sample()\n",
                "\n",
                "model = dm.combined_data.filter(\n",
                "    (pl.col(\"Name\") == model_name) & (pl.col(\"Channel\") == channel)\n",
                ")\n",
                "\n",
                "modelpredictors = (\n",
                "    dm.combined_data.join(\n",
                "        model.select(pl.col(\"ModelID\").unique()), on=\"ModelID\", how=\"inner\"\n",
                "    )\n",
                "    .filter(pl.col(\"EntryType\") != \"Inactive\")\n",
                "    .with_columns(\n",
                "        Action=pl.concat_str([\"Issue\", \"Group\"], separator=\"/\"),\n",
                "        PredictorName=pl.col(\"PredictorName\").cast(pl.Utf8),\n",
                "    )\n",
                "    .collect()\n",
                ")\n",
                "\n",
                "predictorbinning = modelpredictors.filter(\n",
                "    pl.col(\"PredictorName\") == predictor_name\n",
                ").sort(\"BinIndex\")"
            ]
        },
        {
            "cell_type": "code",
            "execution_count": 13,
            "metadata": {
                "nbsphinx": "hidden"
            },
            "outputs": [],
            "source": [
                "model_id = None\n",
                "\n",
                "if (modelpredictors.select(pl.col(\"ModelID\").unique()).shape[0] > 1) and (\n",
                "    model_id is None\n",
                "):\n",
                "    display(\n",
                "        model.group_by(\"ModelID\")\n",
                "        .agg(\n",
                "            number_of_predictors=pl.col(\"PredictorName\").n_unique(),\n",
                "            model_performance=cdh_utils.weighted_performance_polars() * 100,\n",
                "            response_count=pl.sum(\"ResponseCount\"),\n",
                "        )\n",
                "        .collect()\n",
                "        .to_pandas()\n",
                "    )\n",
                "    raise Exception(\n",
                "        f\"**{model_name}** model has multiple instances.\"\n",
                "        \"\\nThis could be due to the same model name being used in different configurations, directions, issues, or having multiple treatments.\"\n",
                "        \"\\nTo ensure the selection of a unique model, please choose a model_id from the table above and update the `model_id` variable at the top of this cell.\"\n",
                "        \"\\nAfterward, rerun this cell.\"\n",
                "        f\"\\nSee model IDs in {model_name} model above:\"\n",
                "    )\n",
                "if model_id is not None:\n",
                "    if (\n",
                "        model_id\n",
                "        not in modelpredictors.select(pl.col(\"ModelID\").unique())\n",
                "        .get_column(\"ModelID\")\n",
                "        .to_list()\n",
                "    ):\n",
                "        raise Exception(\n",
                "            f\"The {model_name} model does not have a model ID: {model_id}.\"\n",
                "            f\"Please ensure that the spelling of the model ID is correct.\"\n",
                "            f\"You can run `modelpredictors.select(pl.col('ModelID').unique().implode()).row(0)` to see the exact spellings of your IDs.\"\n",
                "            \"After updating the `model_id`, you can restart the notebook from the beginning.\"\n",
                "        )\n",
                "\n",
                "    predictors_in_selected_model = (\n",
                "        modelpredictors.filter(pl.col(\"ModelID\") == model_id)\n",
                "        .select(pl.col(\"PredictorName\").unique())\n",
                "        .get_column(\"PredictorName\")\n",
                "        .to_list()\n",
                "    )\n",
                "    if predictor_name not in predictors_in_selected_model:\n",
                "        raise Exception(\n",
                "            f\"{predictor_name} is not a predictor of the model with ID: {model_id}.\"\n",
                "            \"Please choose one of the available predictors below and update the **predictor_name** variable in the cell above:\"\n",
                "            f\"\\nAvailable Predictors:\\n{predictors_in_selected_model}.\"\n",
                "        )\n",
                "\n",
                "    modelpredictors = modelpredictors.filter(pl.col(\"ModelID\") == model_id)\n",
                "    predictorbinning = predictorbinning.filter(pl.col(\"ModelID\") == model_id)\n",
                "    print(f\"{model_name} model with **{model_id}** model ID is selected successfully.\")"
            ]
        },
        {
            "attachments": {},
            "cell_type": "markdown",
            "metadata": {},
            "source": [
                "## Model Overview"
            ]
        },
        {
            "attachments": {},
            "cell_type": "markdown",
            "metadata": {},
            "source": [
                "The selected model is shown below. Only the currently active predictors are used for the propensity calculation, so only showing those.\n",
                "\n"
            ]
        },
        {
            "cell_type": "code",
            "execution_count": 53,
            "metadata": {
                "tags": [
                    "remove_input"
                ]
            },
            "outputs": [
                {
                    "data": {
                        "text/html": [
                            "<div id=\"aofbgvzufd\" style=\"padding-left:0px;padding-right:0px;padding-top:10px;padding-bottom:10px;overflow-x:auto;overflow-y:auto;width:auto;height:auto;\">\n",
                            "<style>\n",
                            "#aofbgvzufd table {\n",
                            "          font-family: -apple-system, BlinkMacSystemFont, 'Segoe UI', Roboto, Oxygen, Ubuntu, Cantarell, 'Helvetica Neue', 'Fira Sans', 'Droid Sans', Arial, sans-serif;\n",
                            "          -webkit-font-smoothing: antialiased;\n",
                            "          -moz-osx-font-smoothing: grayscale;\n",
                            "        }\n",
                            "\n",
                            "#aofbgvzufd thead, tbody, tfoot, tr, td, th { border-style: none !important; }\n",
                            " tr { background-color: transparent !important; }\n",
                            "#aofbgvzufd p { margin: 0 !important; padding: 0 !important; }\n",
                            " #aofbgvzufd .gt_table { display: table !important; border-collapse: collapse !important; line-height: normal !important; margin-left: auto !important; margin-right: auto !important; color: #333333 !important; font-size: 16px !important; font-weight: normal !important; font-style: normal !important; background-color: #FFFFFF !important; width: auto !important; border-top-style: solid !important; border-top-width: 2px !important; border-top-color: #A8A8A8 !important; border-right-style: none !important; border-right-width: 2px !important; border-right-color: #D3D3D3 !important; border-bottom-style: solid !important; border-bottom-width: 2px !important; border-bottom-color: #A8A8A8 !important; border-left-style: none !important; border-left-width: 2px !important; border-left-color: #D3D3D3 !important; }\n",
                            " #aofbgvzufd .gt_caption { padding-top: 4px !important; padding-bottom: 4px !important; }\n",
                            " #aofbgvzufd .gt_title { color: #333333 !important; font-size: 125% !important; font-weight: initial !important; padding-top: 4px !important; padding-bottom: 4px !important; padding-left: 5px !important; padding-right: 5px !important; border-bottom-color: #FFFFFF !important; border-bottom-width: 0 !important; }\n",
                            " #aofbgvzufd .gt_subtitle { color: #333333 !important; font-size: 85% !important; font-weight: initial !important; padding-top: 3px !important; padding-bottom: 5px !important; padding-left: 5px !important; padding-right: 5px !important; border-top-color: #FFFFFF !important; border-top-width: 0 !important; }\n",
                            " #aofbgvzufd .gt_heading { background-color: #FFFFFF !important; text-align: center !important; border-bottom-color: #FFFFFF !important; border-left-style: none !important; border-left-width: 1px !important; border-left-color: #D3D3D3 !important; border-right-style: none !important; border-right-width: 1px !important; border-right-color: #D3D3D3 !important; }\n",
                            " #aofbgvzufd .gt_bottom_border { border-bottom-style: solid !important; border-bottom-width: 2px !important; border-bottom-color: #D3D3D3 !important; }\n",
                            " #aofbgvzufd .gt_col_headings { border-top-style: solid !important; border-top-width: 2px !important; border-top-color: #D3D3D3 !important; border-bottom-style: solid !important; border-bottom-width: 2px !important; border-bottom-color: #D3D3D3 !important; border-left-style: none !important; border-left-width: 1px !important; border-left-color: #D3D3D3 !important; border-right-style: none !important; border-right-width: 1px !important; border-right-color: #D3D3D3 !important; }\n",
                            " #aofbgvzufd .gt_col_heading { color: #333333 !important; background-color: #FFFFFF !important; font-size: 100% !important; font-weight: normal !important; text-transform: inherit !important; border-left-style: none !important; border-left-width: 1px !important; border-left-color: #D3D3D3 !important; border-right-style: none !important; border-right-width: 1px !important; border-right-color: #D3D3D3 !important; vertical-align: bottom !important; padding-top: 5px !important; padding-bottom: 5px !important; padding-left: 5px !important; padding-right: 5px !important; overflow-x: hidden !important; }\n",
                            " #aofbgvzufd .gt_column_spanner_outer { color: #333333 !important; background-color: #FFFFFF !important; font-size: 100% !important; font-weight: normal !important; text-transform: inherit !important; padding-top: 0 !important; padding-bottom: 0 !important; padding-left: 4px !important; padding-right: 4px !important; }\n",
                            " #aofbgvzufd .gt_column_spanner_outer:first-child { padding-left: 0 !important; }\n",
                            " #aofbgvzufd .gt_column_spanner_outer:last-child { padding-right: 0 !important; }\n",
                            " #aofbgvzufd .gt_column_spanner { border-bottom-style: solid !important; border-bottom-width: 2px !important; border-bottom-color: #D3D3D3 !important; vertical-align: bottom !important; padding-top: 5px !important; padding-bottom: 5px !important; overflow-x: hidden !important; display: inline-block !important; width: 100% !important; }\n",
                            " #aofbgvzufd .gt_spanner_row { border-bottom-style: hidden !important; }\n",
                            " #aofbgvzufd .gt_group_heading { padding-top: 8px !important; padding-bottom: 8px !important; padding-left: 5px !important; padding-right: 5px !important; color: #333333 !important; background-color: #FFFFFF !important; font-size: 100% !important; font-weight: initial !important; text-transform: inherit !important; border-top-style: solid !important; border-top-width: 2px !important; border-top-color: #D3D3D3 !important; border-bottom-style: solid !important; border-bottom-width: 2px !important; border-bottom-color: #D3D3D3 !important; border-left-style: none !important; border-left-width: 1px !important; border-left-color: #D3D3D3 !important; border-right-style: none !important; border-right-width: 1px !important; border-right-color: #D3D3D3 !important; vertical-align: middle !important; text-align: left !important; }\n",
                            " #aofbgvzufd .gt_empty_group_heading { padding: 0.5px !important; color: #333333 !important; background-color: #FFFFFF !important; font-size: 100% !important; font-weight: initial !important; border-top-style: solid !important; border-top-width: 2px !important; border-top-color: #D3D3D3 !important; border-bottom-style: solid !important; border-bottom-width: 2px !important; border-bottom-color: #D3D3D3 !important; vertical-align: middle !important; }\n",
                            " #aofbgvzufd .gt_from_md> :first-child { margin-top: 0 !important; }\n",
                            " #aofbgvzufd .gt_from_md> :last-child { margin-bottom: 0 !important; }\n",
                            " #aofbgvzufd .gt_row { padding-top: 8px !important; padding-bottom: 8px !important; padding-left: 5px !important; padding-right: 5px !important; margin: 10px !important; border-top-style: solid !important; border-top-width: 1px !important; border-top-color: #D3D3D3 !important; border-left-style: none !important; border-left-width: 1px !important; border-left-color: #D3D3D3 !important; border-right-style: none !important; border-right-width: 1px !important; border-right-color: #D3D3D3 !important; vertical-align: middle !important; overflow-x: hidden !important; }\n",
                            " #aofbgvzufd .gt_stub { color: #333333 !important; background-color: #FFFFFF !important; font-size: 100% !important; font-weight: initial !important; text-transform: inherit !important; border-right-style: solid !important; border-right-width: 2px !important; border-right-color: #D3D3D3 !important; padding-left: 5px !important; padding-right: 5px !important; }\n",
                            " #aofbgvzufd .gt_stub_row_group { color: #333333 !important; background-color: #FFFFFF !important; font-size: 100% !important; font-weight: initial !important; text-transform: inherit !important; border-right-style: solid !important; border-right-width: 2px !important; border-right-color: #D3D3D3 !important; padding-left: 5px !important; padding-right: 5px !important; vertical-align: top !important; }\n",
                            " #aofbgvzufd .gt_row_group_first td { border-top-width: 2px !important; }\n",
                            " #aofbgvzufd .gt_row_group_first th { border-top-width: 2px !important; }\n",
                            " #aofbgvzufd .gt_striped { background-color: rgba(128,128,128,0.05) !important; }\n",
                            " #aofbgvzufd .gt_table_body { border-top-style: solid !important; border-top-width: 2px !important; border-top-color: #D3D3D3 !important; border-bottom-style: solid !important; border-bottom-width: 2px !important; border-bottom-color: #D3D3D3 !important; }\n",
                            " #aofbgvzufd .gt_sourcenotes { color: #333333 !important; background-color: #FFFFFF !important; border-bottom-style: none !important; border-bottom-width: 2px !important; border-bottom-color: #D3D3D3 !important; border-left-style: none !important; border-left-width: 2px !important; border-left-color: #D3D3D3 !important; border-right-style: none !important; border-right-width: 2px !important; border-right-color: #D3D3D3 !important; }\n",
                            " #aofbgvzufd .gt_sourcenote { font-size: 90% !important; padding-top: 4px !important; padding-bottom: 4px !important; padding-left: 5px !important; padding-right: 5px !important; text-align: left !important; }\n",
                            " #aofbgvzufd .gt_left { text-align: left !important; }\n",
                            " #aofbgvzufd .gt_center { text-align: center !important; }\n",
                            " #aofbgvzufd .gt_right { text-align: right !important; font-variant-numeric: tabular-nums !important; }\n",
                            " #aofbgvzufd .gt_font_normal { font-weight: normal !important; }\n",
                            " #aofbgvzufd .gt_font_bold { font-weight: bold !important; }\n",
                            " #aofbgvzufd .gt_font_italic { font-style: italic !important; }\n",
                            " #aofbgvzufd .gt_super { font-size: 65% !important; }\n",
                            " #aofbgvzufd .gt_footnote_marks { font-size: 75% !important; vertical-align: 0.4em !important; position: initial !important; }\n",
                            " #aofbgvzufd .gt_asterisk { font-size: 100% !important; vertical-align: 0 !important; }\n",
                            " \n",
                            "</style>\n",
                            "<table class=\"gt_table\" data-quarto-disable-processing=\"false\" data-quarto-bootstrap=\"false\">\n",
                            "<thead>\n",
                            "\n",
                            "  <tr class=\"gt_heading\">\n",
                            "    <td colspan=\"2\" class=\"gt_heading gt_title gt_font_normal\">Overview</td>\n",
                            "  </tr>\n",
                            "\n",
                            "</thead>\n",
                            "<tbody class=\"gt_table_body\">\n",
                            "  <tr>\n",
                            "    <td style=\"font-weight: bold;\" class=\"gt_row gt_left\">Action</td>\n",
                            "    <td class=\"gt_row gt_left\">Sales/AutoLoans</td>\n",
                            "  </tr>\n",
                            "  <tr>\n",
                            "    <td style=\"font-weight: bold;\" class=\"gt_row gt_left\">Channel</td>\n",
                            "    <td class=\"gt_row gt_left\">Web</td>\n",
                            "  </tr>\n",
                            "  <tr>\n",
                            "    <td style=\"font-weight: bold;\" class=\"gt_row gt_left\">Name</td>\n",
                            "    <td class=\"gt_row gt_left\">AutoNew84Months</td>\n",
                            "  </tr>\n",
                            "  <tr>\n",
                            "    <td style=\"font-weight: bold;\" class=\"gt_row gt_left\">Active Predictors</td>\n",
                            "    <td class=\"gt_row gt_left\">Classifier, Customer.Age, Customer.AnnualIncome, Customer.BusinessSegment, Customer.CLV, Customer.CLV_VALUE, Customer.CreditScore, Customer.Date_of_Birth, Customer.Gender, Customer.MaritalStatus, Customer.NetWealth, Customer.NoOfDependents, Customer.Prefix, Customer.RelationshipStartDate, Customer.RiskCode, Customer.WinScore, Customer.pyCountry, IH.Email.Outbound.Accepted.pxLastGroupID, IH.Email.Outbound.Accepted.pxLastOutcomeTime.DaysSince, IH.Email.Outbound.Accepted.pyHistoricalOutcomeCount, IH.Email.Outbound.Churned.pyHistoricalOutcomeCount, IH.Email.Outbound.Loyal.pxLastOutcomeTime.DaysSince, IH.Email.Outbound.Rejected.pyHistoricalOutcomeCount, IH.SMS.Outbound.Accepted.pxLastGroupID, IH.SMS.Outbound.Accepted.pyHistoricalOutcomeCount, IH.SMS.Outbound.Churned.pxLastOutcomeTime.DaysSince, IH.SMS.Outbound.Loyal.pxLastOutcomeTime.DaysSince, IH.SMS.Outbound.Loyal.pyHistoricalOutcomeCount, IH.SMS.Outbound.Rejected.pxLastGroupID, IH.SMS.Outbound.Rejected.pyHistoricalOutcomeCount, IH.Web.Inbound.Accepted.pxLastGroupID, IH.Web.Inbound.Accepted.pyHistoricalOutcomeCount, IH.Web.Inbound.Loyal.pxLastGroupID, IH.Web.Inbound.Loyal.pyHistoricalOutcomeCount, IH.Web.Inbound.Rejected.pxLastGroupID, IH.Web.Inbound.Rejected.pyHistoricalOutcomeCount, Param.ExtGroupCreditcards</td>\n",
                            "  </tr>\n",
                            "  <tr>\n",
                            "    <td style=\"font-weight: bold;\" class=\"gt_row gt_left\">Model Performance (AUC)</td>\n",
                            "    <td class=\"gt_row gt_left\">77.4901</td>\n",
                            "  </tr>\n",
                            "</tbody>\n",
                            "\n",
                            "\n",
                            "</table>\n",
                            "\n",
                            "</div>\n",
                            "        "
                        ],
                        "text/plain": [
                            "GT(_tbl_data=shape: (5, 2)\n",
                            "┌─────────────────────────┬──────────────────────────────────────────────────────┐\n",
                            "│ column                  ┆ column_0                                             │\n",
                            "│ ---                     ┆ ---                                                  │\n",
                            "│ str                     ┆ str                                                  │\n",
                            "╞═════════════════════════╪══════════════════════════════════════════════════════╡\n",
                            "│ Action                  ┆ Sales/AutoLoans                                      │\n",
                            "│ Channel                 ┆ Web                                                  │\n",
                            "│ Name                    ┆ AutoNew84Months                                      │\n",
                            "│ Active Predictors       ┆ Classifier, Customer.Age, Customer.AnnualIncome,     │\n",
                            "│                         ┆ Customer.BusinessSegment, Customer.CLV, Customer.CL… │\n",
                            "│ Model Performance (AUC) ┆ 77.4901                                              │\n",
                            "└─────────────────────────┴──────────────────────────────────────────────────────┘, _body=<great_tables._gt_data.Body object at 0x16a27a7b0>, _boxhead=Boxhead([ColInfo(var='column', type=<ColInfoTypeEnum.default: 1>, column_label='column', column_align='left', column_width=None), ColInfo(var='column_0', type=<ColInfoTypeEnum.default: 1>, column_label='column_0', column_align='left', column_width=None)]), _stub=<great_tables._gt_data.Stub object at 0x16a26f0b0>, _spanners=Spanners([]), _heading=Heading(title='Overview', subtitle=None, preheader=None), _stubhead=None, _source_notes=[], _footnotes=[], _styles=[StyleInfo(locname='data', locnum=5, grpname=None, colname='column', rownum=0, colnum=None, styles=[CellStyleText(color=None, font=None, size=None, align=None, v_align=None, style=None, weight='bold', stretch=None, decorate=None, transform=None, whitespace=None)]), StyleInfo(locname='data', locnum=5, grpname=None, colname='column', rownum=1, colnum=None, styles=[CellStyleText(color=None, font=None, size=None, align=None, v_align=None, style=None, weight='bold', stretch=None, decorate=None, transform=None, whitespace=None)]), StyleInfo(locname='data', locnum=5, grpname=None, colname='column', rownum=2, colnum=None, styles=[CellStyleText(color=None, font=None, size=None, align=None, v_align=None, style=None, weight='bold', stretch=None, decorate=None, transform=None, whitespace=None)]), StyleInfo(locname='data', locnum=5, grpname=None, colname='column', rownum=3, colnum=None, styles=[CellStyleText(color=None, font=None, size=None, align=None, v_align=None, style=None, weight='bold', stretch=None, decorate=None, transform=None, whitespace=None)]), StyleInfo(locname='data', locnum=5, grpname=None, colname='column', rownum=4, colnum=None, styles=[CellStyleText(color=None, font=None, size=None, align=None, v_align=None, style=None, weight='bold', stretch=None, decorate=None, transform=None, whitespace=None)])], _locale=<great_tables._gt_data.Locale object at 0x169f17e90>, _formats=[], _substitutions=[], _options=Options(table_id=OptionsInfo(scss=False, category='table', type='value', value=None), table_caption=OptionsInfo(scss=False, category='table', type='value', value=None), table_width=OptionsInfo(scss=True, category='table', type='px', value='auto'), table_layout=OptionsInfo(scss=True, category='table', type='value', value='fixed'), table_margin_left=OptionsInfo(scss=True, category='table', type='px', value='auto'), table_margin_right=OptionsInfo(scss=True, category='table', type='px', value='auto'), table_background_color=OptionsInfo(scss=True, category='table', type='value', value='#FFFFFF'), table_additional_css=OptionsInfo(scss=False, category='table', type='values', value=[]), table_font_names=OptionsInfo(scss=False, category='table', type='values', value=['-apple-system', 'BlinkMacSystemFont', 'Segoe UI', 'Roboto', 'Oxygen', 'Ubuntu', 'Cantarell', 'Helvetica Neue', 'Fira Sans', 'Droid Sans', 'Arial', 'sans-serif']), table_font_size=OptionsInfo(scss=True, category='table', type='px', value='16px'), table_font_weight=OptionsInfo(scss=True, category='table', type='value', value='normal'), table_font_style=OptionsInfo(scss=True, category='table', type='value', value='normal'), table_font_color=OptionsInfo(scss=True, category='table', type='value', value='#333333'), table_font_color_light=OptionsInfo(scss=True, category='table', type='value', value='#FFFFFF'), table_border_top_include=OptionsInfo(scss=False, category='table', type='boolean', value=True), table_border_top_style=OptionsInfo(scss=True, category='table', type='value', value='solid'), table_border_top_width=OptionsInfo(scss=True, category='table', type='px', value='2px'), table_border_top_color=OptionsInfo(scss=True, category='table', type='value', value='#A8A8A8'), table_border_right_style=OptionsInfo(scss=True, category='table', type='value', value='none'), table_border_right_width=OptionsInfo(scss=True, category='table', type='px', value='2px'), table_border_right_color=OptionsInfo(scss=True, category='table', type='value', value='#D3D3D3'), table_border_bottom_include=OptionsInfo(scss=False, category='table', type='boolean', value=True), table_border_bottom_style=OptionsInfo(scss=True, category='table', type='value', value='solid'), table_border_bottom_width=OptionsInfo(scss=True, category='table', type='px', value='2px'), table_border_bottom_color=OptionsInfo(scss=True, category='table', type='value', value='#A8A8A8'), table_border_left_style=OptionsInfo(scss=True, category='table', type='value', value='none'), table_border_left_width=OptionsInfo(scss=True, category='table', type='px', value='2px'), table_border_left_color=OptionsInfo(scss=True, category='table', type='value', value='#D3D3D3'), heading_background_color=OptionsInfo(scss=True, category='heading', type='value', value=None), heading_align=OptionsInfo(scss=True, category='heading', type='value', value='center'), heading_title_font_size=OptionsInfo(scss=True, category='heading', type='px', value='125%'), heading_title_font_weight=OptionsInfo(scss=True, category='heading', type='value', value='initial'), heading_subtitle_font_size=OptionsInfo(scss=True, category='heading', type='px', value='85%'), heading_subtitle_font_weight=OptionsInfo(scss=True, category='heading', type='value', value='initial'), heading_padding=OptionsInfo(scss=True, category='heading', type='px', value='4px'), heading_padding_horizontal=OptionsInfo(scss=True, category='heading', type='px', value='5px'), heading_border_bottom_style=OptionsInfo(scss=True, category='heading', type='value', value='solid'), heading_border_bottom_width=OptionsInfo(scss=True, category='heading', type='px', value='2px'), heading_border_bottom_color=OptionsInfo(scss=True, category='heading', type='value', value='#D3D3D3'), heading_border_lr_style=OptionsInfo(scss=True, category='heading', type='value', value='none'), heading_border_lr_width=OptionsInfo(scss=True, category='heading', type='px', value='1px'), heading_border_lr_color=OptionsInfo(scss=True, category='heading', type='value', value='#D3D3D3'), column_labels_background_color=OptionsInfo(scss=True, category='column_labels', type='value', value=None), column_labels_font_size=OptionsInfo(scss=True, category='column_labels', type='px', value='100%'), column_labels_font_weight=OptionsInfo(scss=True, category='column_labels', type='value', value='normal'), column_labels_text_transform=OptionsInfo(scss=True, category='column_labels', type='value', value='inherit'), column_labels_padding=OptionsInfo(scss=True, category='column_labels', type='px', value='5px'), column_labels_padding_horizontal=OptionsInfo(scss=True, category='column_labels', type='px', value='5px'), column_labels_vlines_style=OptionsInfo(scss=True, category='table_body', type='value', value='none'), column_labels_vlines_width=OptionsInfo(scss=True, category='table_body', type='px', value='1px'), column_labels_vlines_color=OptionsInfo(scss=True, category='table_body', type='value', value='#D3D3D3'), column_labels_border_top_style=OptionsInfo(scss=True, category='column_labels', type='value', value='solid'), column_labels_border_top_width=OptionsInfo(scss=True, category='column_labels', type='px', value='2px'), column_labels_border_top_color=OptionsInfo(scss=True, category='column_labels', type='value', value='#D3D3D3'), column_labels_border_bottom_style=OptionsInfo(scss=True, category='column_labels', type='value', value='solid'), column_labels_border_bottom_width=OptionsInfo(scss=True, category='column_labels', type='px', value='2px'), column_labels_border_bottom_color=OptionsInfo(scss=True, category='column_labels', type='value', value='#D3D3D3'), column_labels_border_lr_style=OptionsInfo(scss=True, category='column_labels', type='value', value='none'), column_labels_border_lr_width=OptionsInfo(scss=True, category='column_labels', type='px', value='1px'), column_labels_border_lr_color=OptionsInfo(scss=True, category='column_labels', type='value', value='#D3D3D3'), column_labels_hidden=OptionsInfo(scss=False, category='column_labels', type='boolean', value=True), row_group_background_color=OptionsInfo(scss=True, category='row_group', type='value', value=None), row_group_font_size=OptionsInfo(scss=True, category='row_group', type='px', value='100%'), row_group_font_weight=OptionsInfo(scss=True, category='row_group', type='value', value='initial'), row_group_text_transform=OptionsInfo(scss=True, category='row_group', type='value', value='inherit'), row_group_padding=OptionsInfo(scss=True, category='row_group', type='px', value='8px'), row_group_padding_horizontal=OptionsInfo(scss=True, category='row_group', type='px', value='5px'), row_group_border_top_style=OptionsInfo(scss=True, category='row_group', type='value', value='solid'), row_group_border_top_width=OptionsInfo(scss=True, category='row_group', type='px', value='2px'), row_group_border_top_color=OptionsInfo(scss=True, category='row_group', type='value', value='#D3D3D3'), row_group_border_right_style=OptionsInfo(scss=True, category='row_group', type='value', value='none'), row_group_border_right_width=OptionsInfo(scss=True, category='row_group', type='px', value='1px'), row_group_border_right_color=OptionsInfo(scss=True, category='row_group', type='value', value='#D3D3D3'), row_group_border_bottom_style=OptionsInfo(scss=True, category='row_group', type='value', value='solid'), row_group_border_bottom_width=OptionsInfo(scss=True, category='row_group', type='px', value='2px'), row_group_border_bottom_color=OptionsInfo(scss=True, category='row_group', type='value', value='#D3D3D3'), row_group_border_left_style=OptionsInfo(scss=True, category='row_group', type='value', value='none'), row_group_border_left_width=OptionsInfo(scss=True, category='row_group', type='px', value='1px'), row_group_border_left_color=OptionsInfo(scss=True, category='row_group', type='value', value='#D3D3D3'), row_group_as_column=OptionsInfo(scss=False, category='row_group', type='boolean', value=False), table_body_hlines_style=OptionsInfo(scss=True, category='table_body', type='value', value='solid'), table_body_hlines_width=OptionsInfo(scss=True, category='table_body', type='px', value='1px'), table_body_hlines_color=OptionsInfo(scss=True, category='table_body', type='value', value='#D3D3D3'), table_body_vlines_style=OptionsInfo(scss=True, category='table_body', type='value', value='none'), table_body_vlines_width=OptionsInfo(scss=True, category='table_body', type='px', value='1px'), table_body_vlines_color=OptionsInfo(scss=True, category='table_body', type='value', value='#D3D3D3'), table_body_border_top_style=OptionsInfo(scss=True, category='table_body', type='value', value='solid'), table_body_border_top_width=OptionsInfo(scss=True, category='table_body', type='px', value='2px'), table_body_border_top_color=OptionsInfo(scss=True, category='table_body', type='value', value='#D3D3D3'), table_body_border_bottom_style=OptionsInfo(scss=True, category='table_body', type='value', value='solid'), table_body_border_bottom_width=OptionsInfo(scss=True, category='table_body', type='px', value='2px'), table_body_border_bottom_color=OptionsInfo(scss=True, category='table_body', type='value', value='#D3D3D3'), data_row_padding=OptionsInfo(scss=True, category='data_row', type='px', value='8px'), data_row_padding_horizontal=OptionsInfo(scss=True, category='data_row', type='px', value='5px'), stub_background_color=OptionsInfo(scss=True, category='stub', type='value', value=None), stub_font_size=OptionsInfo(scss=True, category='stub', type='px', value='100%'), stub_font_weight=OptionsInfo(scss=True, category='stub', type='value', value='initial'), stub_text_transform=OptionsInfo(scss=True, category='stub', type='value', value='inherit'), stub_border_style=OptionsInfo(scss=True, category='stub', type='value', value='solid'), stub_border_width=OptionsInfo(scss=True, category='stub', type='px', value='2px'), stub_border_color=OptionsInfo(scss=True, category='stub', type='value', value='#D3D3D3'), stub_row_group_background_color=OptionsInfo(scss=True, category='stub', type='value', value=None), stub_row_group_font_size=OptionsInfo(scss=True, category='stub', type='px', value='100%'), stub_row_group_font_weight=OptionsInfo(scss=True, category='stub', type='value', value='initial'), stub_row_group_text_transform=OptionsInfo(scss=True, category='stub', type='value', value='inherit'), stub_row_group_border_style=OptionsInfo(scss=True, category='stub', type='value', value='solid'), stub_row_group_border_width=OptionsInfo(scss=True, category='stub', type='px', value='2px'), stub_row_group_border_color=OptionsInfo(scss=True, category='stub', type='value', value='#D3D3D3'), source_notes_padding=OptionsInfo(scss=True, category='source_notes', type='px', value='4px'), source_notes_padding_horizontal=OptionsInfo(scss=True, category='source_notes', type='px', value='5px'), source_notes_background_color=OptionsInfo(scss=True, category='source_notes', type='value', value=None), source_notes_font_size=OptionsInfo(scss=True, category='source_notes', type='px', value='90%'), source_notes_border_bottom_style=OptionsInfo(scss=True, category='source_notes', type='value', value='none'), source_notes_border_bottom_width=OptionsInfo(scss=True, category='source_notes', type='px', value='2px'), source_notes_border_bottom_color=OptionsInfo(scss=True, category='source_notes', type='value', value='#D3D3D3'), source_notes_border_lr_style=OptionsInfo(scss=True, category='source_notes', type='value', value='none'), source_notes_border_lr_width=OptionsInfo(scss=True, category='source_notes', type='px', value='2px'), source_notes_border_lr_color=OptionsInfo(scss=True, category='source_notes', type='value', value='#D3D3D3'), source_notes_multiline=OptionsInfo(scss=False, category='source_notes', type='boolean', value=True), source_notes_sep=OptionsInfo(scss=False, category='source_notes', type='value', value=' '), row_striping_background_color=OptionsInfo(scss=True, category='row', type='value', value='rgba(128,128,128,0.05)'), row_striping_include_stub=OptionsInfo(scss=False, category='row', type='boolean', value=False), row_striping_include_table_body=OptionsInfo(scss=False, category='row', type='boolean', value=False), container_width=OptionsInfo(scss=False, category='container', type='px', value='auto'), container_height=OptionsInfo(scss=False, category='container', type='px', value='auto'), container_padding_x=OptionsInfo(scss=False, category='container', type='px', value='0px'), container_padding_y=OptionsInfo(scss=False, category='container', type='px', value='10px'), container_overflow_x=OptionsInfo(scss=False, category='container', type='overflow', value='auto'), container_overflow_y=OptionsInfo(scss=False, category='container', type='overflow', value='auto'), quarto_disable_processing=OptionsInfo(scss=False, category='quarto', type='logical', value=False), quarto_use_bootstrap=OptionsInfo(scss=False, category='quarto', type='logical', value=False)), _has_built=False)"
                        ]
                    },
                    "execution_count": 53,
                    "metadata": {},
                    "output_type": "execute_result"
                }
            ],
            "source": [
                "from great_tables import loc, style\n",
                "\n",
                "GT(\n",
                "    modelpredictors.select(\n",
                "        pl.col(\"Action\").unique(),\n",
                "        pl.col(\"Channel\").unique(),\n",
                "        pl.col(\"Name\").unique(),\n",
                "        pl.col(\"PredictorName\")\n",
                "        .unique()\n",
                "        .sort()\n",
                "        .implode()\n",
                "        .list.join(\", \")\n",
                "        .alias(\"Active Predictors\"),\n",
                "        (pl.col(\"Performance\").unique() * 100).alias(\"Model Performance (AUC)\"),\n",
                "    ).transpose(include_header=True)\n",
                ").tab_header(\"Overview\").tab_options(column_labels_hidden=True).tab_style(\n",
                "    style=style.text(weight=\"bold\"), locations=loc.body(columns=\"column\")\n",
                ")"
            ]
        },
        {
            "attachments": {},
            "cell_type": "markdown",
            "metadata": {},
            "source": [
                "## Binning of the selected Predictor"
            ]
        },
        {
            "attachments": {},
            "cell_type": "markdown",
            "metadata": {},
            "source": [
                "The Model Report in Prediction Studio for this model will have a predictor binning plot like below.\n",
                "\n",
                "All numbers can be derived from just the number of positives and negatives in each bin that are stored in the ADM Data Mart. The next sections will show exactly how that is done."
            ]
        },
        {
            "cell_type": "code",
            "execution_count": 74,
            "metadata": {
                "tags": [
                    "remove_input",
                    "remove_input"
                ]
            },
            "outputs": [
                {
                    "data": {
                        "text/html": [
                            "<div id=\"keyzxxrtqz\" style=\"padding-left:0px;padding-right:0px;padding-top:10px;padding-bottom:10px;overflow-x:auto;overflow-y:auto;width:auto;height:auto;\">\n",
                            "<style>\n",
                            "#keyzxxrtqz table {\n",
                            "          font-family: -apple-system, BlinkMacSystemFont, 'Segoe UI', Roboto, Oxygen, Ubuntu, Cantarell, 'Helvetica Neue', 'Fira Sans', 'Droid Sans', Arial, sans-serif;\n",
                            "          -webkit-font-smoothing: antialiased;\n",
                            "          -moz-osx-font-smoothing: grayscale;\n",
                            "        }\n",
                            "\n",
                            "#keyzxxrtqz thead, tbody, tfoot, tr, td, th { border-style: none !important; }\n",
                            " tr { background-color: transparent !important; }\n",
                            "#keyzxxrtqz p { margin: 0 !important; padding: 0 !important; }\n",
                            " #keyzxxrtqz .gt_table { display: table !important; border-collapse: collapse !important; line-height: normal !important; margin-left: 0 !important; margin-right: auto !important; color: #333333 !important; font-size: 16px !important; font-weight: normal !important; font-style: normal !important; background-color: #FFFFFF !important; width: auto !important; border-top-style: solid !important; border-top-width: 2px !important; border-top-color: #A8A8A8 !important; border-right-style: none !important; border-right-width: 2px !important; border-right-color: #D3D3D3 !important; border-bottom-style: solid !important; border-bottom-width: 2px !important; border-bottom-color: #A8A8A8 !important; border-left-style: none !important; border-left-width: 2px !important; border-left-color: #D3D3D3 !important; }\n",
                            " #keyzxxrtqz .gt_caption { padding-top: 4px !important; padding-bottom: 4px !important; }\n",
                            " #keyzxxrtqz .gt_title { color: #333333 !important; font-size: 125% !important; font-weight: initial !important; padding-top: 4px !important; padding-bottom: 4px !important; padding-left: 5px !important; padding-right: 5px !important; border-bottom-color: #FFFFFF !important; border-bottom-width: 0 !important; }\n",
                            " #keyzxxrtqz .gt_subtitle { color: #333333 !important; font-size: 85% !important; font-weight: initial !important; padding-top: 3px !important; padding-bottom: 5px !important; padding-left: 5px !important; padding-right: 5px !important; border-top-color: #FFFFFF !important; border-top-width: 0 !important; }\n",
                            " #keyzxxrtqz .gt_heading { background-color: #FFFFFF !important; text-align: center !important; border-bottom-color: #FFFFFF !important; border-left-style: none !important; border-left-width: 1px !important; border-left-color: #D3D3D3 !important; border-right-style: none !important; border-right-width: 1px !important; border-right-color: #D3D3D3 !important; }\n",
                            " #keyzxxrtqz .gt_bottom_border { border-bottom-style: solid !important; border-bottom-width: 2px !important; border-bottom-color: #D3D3D3 !important; }\n",
                            " #keyzxxrtqz .gt_col_headings { border-top-style: solid !important; border-top-width: 2px !important; border-top-color: #D3D3D3 !important; border-bottom-style: solid !important; border-bottom-width: 2px !important; border-bottom-color: #D3D3D3 !important; border-left-style: none !important; border-left-width: 1px !important; border-left-color: #D3D3D3 !important; border-right-style: none !important; border-right-width: 1px !important; border-right-color: #D3D3D3 !important; }\n",
                            " #keyzxxrtqz .gt_col_heading { color: #333333 !important; background-color: #FFFFFF !important; font-size: 100% !important; font-weight: normal !important; text-transform: inherit !important; border-left-style: none !important; border-left-width: 1px !important; border-left-color: #D3D3D3 !important; border-right-style: none !important; border-right-width: 1px !important; border-right-color: #D3D3D3 !important; vertical-align: bottom !important; padding-top: 5px !important; padding-bottom: 5px !important; padding-left: 5px !important; padding-right: 5px !important; overflow-x: hidden !important; }\n",
                            " #keyzxxrtqz .gt_column_spanner_outer { color: #333333 !important; background-color: #FFFFFF !important; font-size: 100% !important; font-weight: normal !important; text-transform: inherit !important; padding-top: 0 !important; padding-bottom: 0 !important; padding-left: 4px !important; padding-right: 4px !important; }\n",
                            " #keyzxxrtqz .gt_column_spanner_outer:first-child { padding-left: 0 !important; }\n",
                            " #keyzxxrtqz .gt_column_spanner_outer:last-child { padding-right: 0 !important; }\n",
                            " #keyzxxrtqz .gt_column_spanner { border-bottom-style: solid !important; border-bottom-width: 2px !important; border-bottom-color: #D3D3D3 !important; vertical-align: bottom !important; padding-top: 5px !important; padding-bottom: 5px !important; overflow-x: hidden !important; display: inline-block !important; width: 100% !important; }\n",
                            " #keyzxxrtqz .gt_spanner_row { border-bottom-style: hidden !important; }\n",
                            " #keyzxxrtqz .gt_group_heading { padding-top: 8px !important; padding-bottom: 8px !important; padding-left: 5px !important; padding-right: 5px !important; color: #333333 !important; background-color: #FFFFFF !important; font-size: 100% !important; font-weight: initial !important; text-transform: inherit !important; border-top-style: solid !important; border-top-width: 2px !important; border-top-color: #D3D3D3 !important; border-bottom-style: solid !important; border-bottom-width: 2px !important; border-bottom-color: #D3D3D3 !important; border-left-style: none !important; border-left-width: 1px !important; border-left-color: #D3D3D3 !important; border-right-style: none !important; border-right-width: 1px !important; border-right-color: #D3D3D3 !important; vertical-align: middle !important; text-align: left !important; }\n",
                            " #keyzxxrtqz .gt_empty_group_heading { padding: 0.5px !important; color: #333333 !important; background-color: #FFFFFF !important; font-size: 100% !important; font-weight: initial !important; border-top-style: solid !important; border-top-width: 2px !important; border-top-color: #D3D3D3 !important; border-bottom-style: solid !important; border-bottom-width: 2px !important; border-bottom-color: #D3D3D3 !important; vertical-align: middle !important; }\n",
                            " #keyzxxrtqz .gt_from_md> :first-child { margin-top: 0 !important; }\n",
                            " #keyzxxrtqz .gt_from_md> :last-child { margin-bottom: 0 !important; }\n",
                            " #keyzxxrtqz .gt_row { padding-top: 8px !important; padding-bottom: 8px !important; padding-left: 5px !important; padding-right: 5px !important; margin: 10px !important; border-top-style: solid !important; border-top-width: 1px !important; border-top-color: #D3D3D3 !important; border-left-style: none !important; border-left-width: 1px !important; border-left-color: #D3D3D3 !important; border-right-style: none !important; border-right-width: 1px !important; border-right-color: #D3D3D3 !important; vertical-align: middle !important; overflow-x: hidden !important; }\n",
                            " #keyzxxrtqz .gt_stub { color: #333333 !important; background-color: #FFFFFF !important; font-size: 100% !important; font-weight: initial !important; text-transform: inherit !important; border-right-style: solid !important; border-right-width: 2px !important; border-right-color: #D3D3D3 !important; padding-left: 5px !important; padding-right: 5px !important; }\n",
                            " #keyzxxrtqz .gt_stub_row_group { color: #333333 !important; background-color: #FFFFFF !important; font-size: 100% !important; font-weight: initial !important; text-transform: inherit !important; border-right-style: solid !important; border-right-width: 2px !important; border-right-color: #D3D3D3 !important; padding-left: 5px !important; padding-right: 5px !important; vertical-align: top !important; }\n",
                            " #keyzxxrtqz .gt_row_group_first td { border-top-width: 2px !important; }\n",
                            " #keyzxxrtqz .gt_row_group_first th { border-top-width: 2px !important; }\n",
                            " #keyzxxrtqz .gt_striped { background-color: rgba(128,128,128,0.05) !important; }\n",
                            " #keyzxxrtqz .gt_table_body { border-top-style: solid !important; border-top-width: 2px !important; border-top-color: #D3D3D3 !important; border-bottom-style: solid !important; border-bottom-width: 2px !important; border-bottom-color: #D3D3D3 !important; }\n",
                            " #keyzxxrtqz .gt_sourcenotes { color: #333333 !important; background-color: #FFFFFF !important; border-bottom-style: none !important; border-bottom-width: 2px !important; border-bottom-color: #D3D3D3 !important; border-left-style: none !important; border-left-width: 2px !important; border-left-color: #D3D3D3 !important; border-right-style: none !important; border-right-width: 2px !important; border-right-color: #D3D3D3 !important; }\n",
                            " #keyzxxrtqz .gt_sourcenote { font-size: 90% !important; padding-top: 4px !important; padding-bottom: 4px !important; padding-left: 5px !important; padding-right: 5px !important; text-align: left !important; }\n",
                            " #keyzxxrtqz .gt_left { text-align: left !important; }\n",
                            " #keyzxxrtqz .gt_center { text-align: center !important; }\n",
                            " #keyzxxrtqz .gt_right { text-align: right !important; font-variant-numeric: tabular-nums !important; }\n",
                            " #keyzxxrtqz .gt_font_normal { font-weight: normal !important; }\n",
                            " #keyzxxrtqz .gt_font_bold { font-weight: bold !important; }\n",
                            " #keyzxxrtqz .gt_font_italic { font-style: italic !important; }\n",
                            " #keyzxxrtqz .gt_super { font-size: 65% !important; }\n",
                            " #keyzxxrtqz .gt_footnote_marks { font-size: 75% !important; vertical-align: 0.4em !important; position: initial !important; }\n",
                            " #keyzxxrtqz .gt_asterisk { font-size: 100% !important; vertical-align: 0 !important; }\n",
                            " \n",
                            "</style>\n",
                            "<table class=\"gt_table\" data-quarto-disable-processing=\"false\" data-quarto-bootstrap=\"false\">\n",
                            "<thead>\n",
                            "\n",
                            "  <tr class=\"gt_heading\">\n",
                            "    <td colspan=\"2\" class=\"gt_heading gt_title gt_font_normal\">Predictor information</td>\n",
                            "  </tr>\n",
                            "\n",
                            "</thead>\n",
                            "<tbody class=\"gt_table_body\">\n",
                            "  <tr>\n",
                            "    <td style=\"font-weight: bold;\" class=\"gt_row gt_left\">Predictor Name</td>\n",
                            "    <td class=\"gt_row gt_left\">Customer.NetWealth</td>\n",
                            "  </tr>\n",
                            "  <tr>\n",
                            "    <td style=\"font-weight: bold;\" class=\"gt_row gt_left\"># Responses</td>\n",
                            "    <td class=\"gt_row gt_left\">1636</td>\n",
                            "  </tr>\n",
                            "  <tr>\n",
                            "    <td style=\"font-weight: bold;\" class=\"gt_row gt_left\"># Bins</td>\n",
                            "    <td class=\"gt_row gt_left\">8</td>\n",
                            "  </tr>\n",
                            "  <tr>\n",
                            "    <td style=\"font-weight: bold;\" class=\"gt_row gt_left\">Predictor Performance(AUC)</td>\n",
                            "    <td class=\"gt_row gt_left\">72.2077</td>\n",
                            "  </tr>\n",
                            "</tbody>\n",
                            "\n",
                            "\n",
                            "</table>\n",
                            "\n",
                            "</div>\n",
                            "        "
                        ],
                        "text/plain": [
                            "GT(_tbl_data=shape: (4, 2)\n",
                            "┌────────────────────────────┬────────────────────┐\n",
                            "│ column                     ┆ column_0           │\n",
                            "│ ---                        ┆ ---                │\n",
                            "│ str                        ┆ str                │\n",
                            "╞════════════════════════════╪════════════════════╡\n",
                            "│ Predictor Name             ┆ Customer.NetWealth │\n",
                            "│ # Responses                ┆ 1636               │\n",
                            "│ # Bins                     ┆ 8                  │\n",
                            "│ Predictor Performance(AUC) ┆ 72.2077            │\n",
                            "└────────────────────────────┴────────────────────┘, _body=<great_tables._gt_data.Body object at 0x16b91b4a0>, _boxhead=Boxhead([ColInfo(var='column', type=<ColInfoTypeEnum.default: 1>, column_label='column', column_align='left', column_width=None), ColInfo(var='column_0', type=<ColInfoTypeEnum.default: 1>, column_label='column_0', column_align='left', column_width=None)]), _stub=<great_tables._gt_data.Stub object at 0x16b91fe60>, _spanners=Spanners([]), _heading=Heading(title='Predictor information', subtitle=None, preheader=None), _stubhead=None, _source_notes=[], _footnotes=[], _styles=[StyleInfo(locname='data', locnum=5, grpname=None, colname='column', rownum=0, colnum=None, styles=[CellStyleText(color=None, font=None, size=None, align=None, v_align=None, style=None, weight='bold', stretch=None, decorate=None, transform=None, whitespace=None)]), StyleInfo(locname='data', locnum=5, grpname=None, colname='column', rownum=1, colnum=None, styles=[CellStyleText(color=None, font=None, size=None, align=None, v_align=None, style=None, weight='bold', stretch=None, decorate=None, transform=None, whitespace=None)]), StyleInfo(locname='data', locnum=5, grpname=None, colname='column', rownum=2, colnum=None, styles=[CellStyleText(color=None, font=None, size=None, align=None, v_align=None, style=None, weight='bold', stretch=None, decorate=None, transform=None, whitespace=None)]), StyleInfo(locname='data', locnum=5, grpname=None, colname='column', rownum=3, colnum=None, styles=[CellStyleText(color=None, font=None, size=None, align=None, v_align=None, style=None, weight='bold', stretch=None, decorate=None, transform=None, whitespace=None)])], _locale=<great_tables._gt_data.Locale object at 0x16b91ecc0>, _formats=[], _substitutions=[], _options=Options(table_id=OptionsInfo(scss=False, category='table', type='value', value=None), table_caption=OptionsInfo(scss=False, category='table', type='value', value=None), table_width=OptionsInfo(scss=True, category='table', type='px', value='auto'), table_layout=OptionsInfo(scss=True, category='table', type='value', value='fixed'), table_margin_left=OptionsInfo(scss=True, category='table', type='px', value=0), table_margin_right=OptionsInfo(scss=True, category='table', type='px', value='auto'), table_background_color=OptionsInfo(scss=True, category='table', type='value', value='#FFFFFF'), table_additional_css=OptionsInfo(scss=False, category='table', type='values', value=[]), table_font_names=OptionsInfo(scss=False, category='table', type='values', value=['-apple-system', 'BlinkMacSystemFont', 'Segoe UI', 'Roboto', 'Oxygen', 'Ubuntu', 'Cantarell', 'Helvetica Neue', 'Fira Sans', 'Droid Sans', 'Arial', 'sans-serif']), table_font_size=OptionsInfo(scss=True, category='table', type='px', value='16px'), table_font_weight=OptionsInfo(scss=True, category='table', type='value', value='normal'), table_font_style=OptionsInfo(scss=True, category='table', type='value', value='normal'), table_font_color=OptionsInfo(scss=True, category='table', type='value', value='#333333'), table_font_color_light=OptionsInfo(scss=True, category='table', type='value', value='#FFFFFF'), table_border_top_include=OptionsInfo(scss=False, category='table', type='boolean', value=True), table_border_top_style=OptionsInfo(scss=True, category='table', type='value', value='solid'), table_border_top_width=OptionsInfo(scss=True, category='table', type='px', value='2px'), table_border_top_color=OptionsInfo(scss=True, category='table', type='value', value='#A8A8A8'), table_border_right_style=OptionsInfo(scss=True, category='table', type='value', value='none'), table_border_right_width=OptionsInfo(scss=True, category='table', type='px', value='2px'), table_border_right_color=OptionsInfo(scss=True, category='table', type='value', value='#D3D3D3'), table_border_bottom_include=OptionsInfo(scss=False, category='table', type='boolean', value=True), table_border_bottom_style=OptionsInfo(scss=True, category='table', type='value', value='solid'), table_border_bottom_width=OptionsInfo(scss=True, category='table', type='px', value='2px'), table_border_bottom_color=OptionsInfo(scss=True, category='table', type='value', value='#A8A8A8'), table_border_left_style=OptionsInfo(scss=True, category='table', type='value', value='none'), table_border_left_width=OptionsInfo(scss=True, category='table', type='px', value='2px'), table_border_left_color=OptionsInfo(scss=True, category='table', type='value', value='#D3D3D3'), heading_background_color=OptionsInfo(scss=True, category='heading', type='value', value=None), heading_align=OptionsInfo(scss=True, category='heading', type='value', value='center'), heading_title_font_size=OptionsInfo(scss=True, category='heading', type='px', value='125%'), heading_title_font_weight=OptionsInfo(scss=True, category='heading', type='value', value='initial'), heading_subtitle_font_size=OptionsInfo(scss=True, category='heading', type='px', value='85%'), heading_subtitle_font_weight=OptionsInfo(scss=True, category='heading', type='value', value='initial'), heading_padding=OptionsInfo(scss=True, category='heading', type='px', value='4px'), heading_padding_horizontal=OptionsInfo(scss=True, category='heading', type='px', value='5px'), heading_border_bottom_style=OptionsInfo(scss=True, category='heading', type='value', value='solid'), heading_border_bottom_width=OptionsInfo(scss=True, category='heading', type='px', value='2px'), heading_border_bottom_color=OptionsInfo(scss=True, category='heading', type='value', value='#D3D3D3'), heading_border_lr_style=OptionsInfo(scss=True, category='heading', type='value', value='none'), heading_border_lr_width=OptionsInfo(scss=True, category='heading', type='px', value='1px'), heading_border_lr_color=OptionsInfo(scss=True, category='heading', type='value', value='#D3D3D3'), column_labels_background_color=OptionsInfo(scss=True, category='column_labels', type='value', value=None), column_labels_font_size=OptionsInfo(scss=True, category='column_labels', type='px', value='100%'), column_labels_font_weight=OptionsInfo(scss=True, category='column_labels', type='value', value='normal'), column_labels_text_transform=OptionsInfo(scss=True, category='column_labels', type='value', value='inherit'), column_labels_padding=OptionsInfo(scss=True, category='column_labels', type='px', value='5px'), column_labels_padding_horizontal=OptionsInfo(scss=True, category='column_labels', type='px', value='5px'), column_labels_vlines_style=OptionsInfo(scss=True, category='table_body', type='value', value='none'), column_labels_vlines_width=OptionsInfo(scss=True, category='table_body', type='px', value='1px'), column_labels_vlines_color=OptionsInfo(scss=True, category='table_body', type='value', value='#D3D3D3'), column_labels_border_top_style=OptionsInfo(scss=True, category='column_labels', type='value', value='solid'), column_labels_border_top_width=OptionsInfo(scss=True, category='column_labels', type='px', value='2px'), column_labels_border_top_color=OptionsInfo(scss=True, category='column_labels', type='value', value='#D3D3D3'), column_labels_border_bottom_style=OptionsInfo(scss=True, category='column_labels', type='value', value='solid'), column_labels_border_bottom_width=OptionsInfo(scss=True, category='column_labels', type='px', value='2px'), column_labels_border_bottom_color=OptionsInfo(scss=True, category='column_labels', type='value', value='#D3D3D3'), column_labels_border_lr_style=OptionsInfo(scss=True, category='column_labels', type='value', value='none'), column_labels_border_lr_width=OptionsInfo(scss=True, category='column_labels', type='px', value='1px'), column_labels_border_lr_color=OptionsInfo(scss=True, category='column_labels', type='value', value='#D3D3D3'), column_labels_hidden=OptionsInfo(scss=False, category='column_labels', type='boolean', value=True), row_group_background_color=OptionsInfo(scss=True, category='row_group', type='value', value=None), row_group_font_size=OptionsInfo(scss=True, category='row_group', type='px', value='100%'), row_group_font_weight=OptionsInfo(scss=True, category='row_group', type='value', value='initial'), row_group_text_transform=OptionsInfo(scss=True, category='row_group', type='value', value='inherit'), row_group_padding=OptionsInfo(scss=True, category='row_group', type='px', value='8px'), row_group_padding_horizontal=OptionsInfo(scss=True, category='row_group', type='px', value='5px'), row_group_border_top_style=OptionsInfo(scss=True, category='row_group', type='value', value='solid'), row_group_border_top_width=OptionsInfo(scss=True, category='row_group', type='px', value='2px'), row_group_border_top_color=OptionsInfo(scss=True, category='row_group', type='value', value='#D3D3D3'), row_group_border_right_style=OptionsInfo(scss=True, category='row_group', type='value', value='none'), row_group_border_right_width=OptionsInfo(scss=True, category='row_group', type='px', value='1px'), row_group_border_right_color=OptionsInfo(scss=True, category='row_group', type='value', value='#D3D3D3'), row_group_border_bottom_style=OptionsInfo(scss=True, category='row_group', type='value', value='solid'), row_group_border_bottom_width=OptionsInfo(scss=True, category='row_group', type='px', value='2px'), row_group_border_bottom_color=OptionsInfo(scss=True, category='row_group', type='value', value='#D3D3D3'), row_group_border_left_style=OptionsInfo(scss=True, category='row_group', type='value', value='none'), row_group_border_left_width=OptionsInfo(scss=True, category='row_group', type='px', value='1px'), row_group_border_left_color=OptionsInfo(scss=True, category='row_group', type='value', value='#D3D3D3'), row_group_as_column=OptionsInfo(scss=False, category='row_group', type='boolean', value=False), table_body_hlines_style=OptionsInfo(scss=True, category='table_body', type='value', value='solid'), table_body_hlines_width=OptionsInfo(scss=True, category='table_body', type='px', value='1px'), table_body_hlines_color=OptionsInfo(scss=True, category='table_body', type='value', value='#D3D3D3'), table_body_vlines_style=OptionsInfo(scss=True, category='table_body', type='value', value='none'), table_body_vlines_width=OptionsInfo(scss=True, category='table_body', type='px', value='1px'), table_body_vlines_color=OptionsInfo(scss=True, category='table_body', type='value', value='#D3D3D3'), table_body_border_top_style=OptionsInfo(scss=True, category='table_body', type='value', value='solid'), table_body_border_top_width=OptionsInfo(scss=True, category='table_body', type='px', value='2px'), table_body_border_top_color=OptionsInfo(scss=True, category='table_body', type='value', value='#D3D3D3'), table_body_border_bottom_style=OptionsInfo(scss=True, category='table_body', type='value', value='solid'), table_body_border_bottom_width=OptionsInfo(scss=True, category='table_body', type='px', value='2px'), table_body_border_bottom_color=OptionsInfo(scss=True, category='table_body', type='value', value='#D3D3D3'), data_row_padding=OptionsInfo(scss=True, category='data_row', type='px', value='8px'), data_row_padding_horizontal=OptionsInfo(scss=True, category='data_row', type='px', value='5px'), stub_background_color=OptionsInfo(scss=True, category='stub', type='value', value=None), stub_font_size=OptionsInfo(scss=True, category='stub', type='px', value='100%'), stub_font_weight=OptionsInfo(scss=True, category='stub', type='value', value='initial'), stub_text_transform=OptionsInfo(scss=True, category='stub', type='value', value='inherit'), stub_border_style=OptionsInfo(scss=True, category='stub', type='value', value='solid'), stub_border_width=OptionsInfo(scss=True, category='stub', type='px', value='2px'), stub_border_color=OptionsInfo(scss=True, category='stub', type='value', value='#D3D3D3'), stub_row_group_background_color=OptionsInfo(scss=True, category='stub', type='value', value=None), stub_row_group_font_size=OptionsInfo(scss=True, category='stub', type='px', value='100%'), stub_row_group_font_weight=OptionsInfo(scss=True, category='stub', type='value', value='initial'), stub_row_group_text_transform=OptionsInfo(scss=True, category='stub', type='value', value='inherit'), stub_row_group_border_style=OptionsInfo(scss=True, category='stub', type='value', value='solid'), stub_row_group_border_width=OptionsInfo(scss=True, category='stub', type='px', value='2px'), stub_row_group_border_color=OptionsInfo(scss=True, category='stub', type='value', value='#D3D3D3'), source_notes_padding=OptionsInfo(scss=True, category='source_notes', type='px', value='4px'), source_notes_padding_horizontal=OptionsInfo(scss=True, category='source_notes', type='px', value='5px'), source_notes_background_color=OptionsInfo(scss=True, category='source_notes', type='value', value=None), source_notes_font_size=OptionsInfo(scss=True, category='source_notes', type='px', value='90%'), source_notes_border_bottom_style=OptionsInfo(scss=True, category='source_notes', type='value', value='none'), source_notes_border_bottom_width=OptionsInfo(scss=True, category='source_notes', type='px', value='2px'), source_notes_border_bottom_color=OptionsInfo(scss=True, category='source_notes', type='value', value='#D3D3D3'), source_notes_border_lr_style=OptionsInfo(scss=True, category='source_notes', type='value', value='none'), source_notes_border_lr_width=OptionsInfo(scss=True, category='source_notes', type='px', value='2px'), source_notes_border_lr_color=OptionsInfo(scss=True, category='source_notes', type='value', value='#D3D3D3'), source_notes_multiline=OptionsInfo(scss=False, category='source_notes', type='boolean', value=True), source_notes_sep=OptionsInfo(scss=False, category='source_notes', type='value', value=' '), row_striping_background_color=OptionsInfo(scss=True, category='row', type='value', value='rgba(128,128,128,0.05)'), row_striping_include_stub=OptionsInfo(scss=False, category='row', type='boolean', value=False), row_striping_include_table_body=OptionsInfo(scss=False, category='row', type='boolean', value=False), container_width=OptionsInfo(scss=False, category='container', type='px', value='auto'), container_height=OptionsInfo(scss=False, category='container', type='px', value='auto'), container_padding_x=OptionsInfo(scss=False, category='container', type='px', value='0px'), container_padding_y=OptionsInfo(scss=False, category='container', type='px', value='10px'), container_overflow_x=OptionsInfo(scss=False, category='container', type='overflow', value='auto'), container_overflow_y=OptionsInfo(scss=False, category='container', type='overflow', value='auto'), quarto_disable_processing=OptionsInfo(scss=False, category='quarto', type='logical', value=False), quarto_use_bootstrap=OptionsInfo(scss=False, category='quarto', type='logical', value=False)), _has_built=False)"
                        ]
                    },
                    "metadata": {},
                    "output_type": "display_data"
                },
                {
                    "data": {
                        "application/vnd.plotly.v1+json": {
                            "config": {
                                "plotlyServerURL": "https://plot.ly"
                            },
                            "data": [
                                {
                                    "name": "Responses",
                                    "type": "bar",
                                    "x": [
                                        "<11684.56",
                                        "[11684.56, 13732.56>",
                                        "[13732.56, 16845.52>",
                                        "[16845.52, 19139.28>",
                                        "[19139.28, 20286.16>",
                                        "[20286.16, 22743.76>",
                                        "[22743.76, 23890.64>",
                                        ">=23890.64"
                                    ],
                                    "y": [
                                        436,
                                        202,
                                        267,
                                        230,
                                        90,
                                        222,
                                        90,
                                        99
                                    ]
                                },
                                {
                                    "mode": "lines+markers",
                                    "name": "Propensity",
                                    "type": "scatter",
                                    "x": [
                                        "<11684.56",
                                        "[11684.56, 13732.56>",
                                        "[13732.56, 16845.52>",
                                        "[16845.52, 19139.28>",
                                        "[19139.28, 20286.16>",
                                        "[20286.16, 22743.76>",
                                        "[22743.76, 23890.64>",
                                        ">=23890.64"
                                    ],
                                    "y": [
                                        0.02981651376146789,
                                        0.1188118811881188,
                                        0.06367041198501873,
                                        0.2217391304347826,
                                        0.07777777777777778,
                                        0.23873873873873874,
                                        0.14444444444444443,
                                        0.2828282828282828
                                    ],
                                    "yaxis": "y2"
                                }
                            ],
                            "layout": {
                                "height": 400,
                                "template": {
                                    "layout": {
                                        "colorway": [
                                            "#001F5F",
                                            "#10A5AC",
                                            "#F76923",
                                            "#661D34",
                                            "#86CAC6",
                                            "#005154",
                                            "#86CAC6",
                                            "#5F67B9",
                                            "#FFC836",
                                            "#E63690",
                                            "#AC1361",
                                            "#63666F",
                                            "#A7A9B4",
                                            "#D0D1DB"
                                        ],
                                        "hovermode": "closest"
                                    }
                                },
                                "title": {
                                    "text": "Predictor binning for Customer.NetWealth<br><sup>OmniAdaptiveModel/Web/Inbound/Sales/AutoLoans/AutoNew84Months/MISSING"
                                },
                                "width": 600,
                                "xaxis": {
                                    "anchor": "y",
                                    "domain": [
                                        0,
                                        0.94
                                    ],
                                    "title": {
                                        "text": "Range"
                                    },
                                    "type": "category"
                                },
                                "yaxis": {
                                    "anchor": "x",
                                    "domain": [
                                        0,
                                        1
                                    ],
                                    "showgrid": false,
                                    "title": {
                                        "text": "Responses"
                                    }
                                },
                                "yaxis2": {
                                    "anchor": "x",
                                    "overlaying": "y",
                                    "showgrid": false,
                                    "side": "right",
                                    "tickformat": ",.3%",
                                    "title": {
                                        "text": "Propensity"
                                    },
                                    "zeroline": false
                                }
                            }
                        }
                    },
                    "metadata": {},
                    "output_type": "display_data"
                }
            ],
            "source": [
                "display(\n",
                "    GT(\n",
                "        (\n",
                "            predictorbinning.group_by(\"PredictorName\")\n",
                "            .agg(\n",
                "                pl.first(\"ResponseCount\").cast(pl.Utf8).alias(\"# Responses\"),\n",
                "                pl.n_unique(\"BinIndex\").cast(pl.Utf8).alias(\"# Bins\"),\n",
                "                (pl.first(\"PerformanceBin\") * 100)\n",
                "                .cast(pl.Utf8)\n",
                "                .alias(\"Predictor Performance(AUC)\"),\n",
                "            )\n",
                "            .rename({\"PredictorName\": \"Predictor Name\"})\n",
                "            .transpose(include_header=True)\n",
                "        )\n",
                "    )\n",
                "    .tab_header(\"Predictor information\")\n",
                "    .tab_options(column_labels_hidden=True)\n",
                "    .tab_style(style=style.text(weight=\"bold\"), locations=loc.body(columns=\"column\"))\n",
                "    .tab_options(table_margin_left=0)\n",
                ")\n",
                "\n",
                "fig = dm.plot.predictor_binning(\n",
                "    model_id=modelpredictors.get_column(\"ModelID\").unique().to_list()[0],\n",
                "    predictor_name=predictor_name,\n",
                ")\n",
                "fig.update_layout(width=600, height=400)\n"
            ]
        },
        {
            "cell_type": "code",
            "execution_count": null,
            "metadata": {
                "tags": [
                    "remove_input"
                ]
            },
            "outputs": [],
            "source": [
                "BinPositives = pl.col(\"BinPositives\")\n",
                "BinNegatives = pl.col(\"BinNegatives\")\n",
                "sumPositives = pl.sum(\"BinPositives\")\n",
                "sumNegatives = pl.sum(\"BinNegatives\")\n",
                "\n",
                "# TODO: add totals for first 5 columns, base rate for 6 and 0,1, see R version\n",
                "\n",
                "binstats = predictorbinning.select(\n",
                "    pl.col(\"BinSymbol\").alias(\"Range/Symbol\"),\n",
                "    ((BinPositives + BinNegatives) / (sumPositives + sumNegatives))\n",
                "    .round(3)\n",
                "    .alias(\"Responses (%)\"),\n",
                "    BinPositives.alias(\"Positives\"),\n",
                "    (BinPositives / sumPositives).round(3).alias(\"Positives (%)\"),\n",
                "    BinNegatives.alias(\"Negatives\"),\n",
                "    (BinNegatives / sumNegatives).round(3).alias(\"Negatives (%)\"),\n",
                "    (BinPositives / (BinPositives + BinNegatives)).round(4).alias(\"Propensity (%)\"),\n",
                "    cdh_utils.zRatio(negCol=BinNegatives, posCol=BinPositives),\n",
                "    (\n",
                "        (BinPositives / (BinPositives + BinNegatives))\n",
                "        / (sumPositives / (BinPositives + BinNegatives).sum())\n",
                "    ).alias(\"Lift\"),\n",
                ")\n",
                "\n",
                "binstats.vstack(\n",
                "    pl.DataFrame(\n",
                "        dict(\n",
                "            zip(\n",
                "                binstats.columns,\n",
                "                [\"Total\"]\n",
                "                + [\n",
                "                    binstats.select(pl.sum(col)).row(0)[0]\n",
                "                    for col in binstats.columns[1:]\n",
                "                ],\n",
                "            )\n",
                "        ),\n",
                "        schema=binstats.schema,\n",
                "    )\n",
                ").to_pandas().set_index(\"Range/Symbol\")\n"
            ]
        },
        {
            "attachments": {},
            "cell_type": "markdown",
            "metadata": {},
            "source": [
                "## Bin Statistics"
            ]
        },
        {
            "attachments": {},
            "cell_type": "markdown",
            "metadata": {},
            "source": [
                "### Positive and Negative ratios"
            ]
        },
        {
            "attachments": {},
            "cell_type": "markdown",
            "metadata": {},
            "source": [
                "Internally, ADM only keeps track of the total counts of positive and negative responses in each bin. Everything else is derived from those numbers. The percentages and totals are trivially derived, and the propensity is just the number of positives divided by the total. The numbers calculated here match the numbers from the datamart table exactly."
            ]
        },
        {
            "cell_type": "code",
            "execution_count": null,
            "metadata": {},
            "outputs": [],
            "source": [
                "binningDerived = predictorbinning.select(\n",
                "    pl.col(\"BinSymbol\").alias(\"Range/Symbol\"),\n",
                "    BinPositives.alias(\"Positives\"),\n",
                "    BinNegatives.alias(\"Negatives\"),\n",
                "    (((BinPositives + BinNegatives) / (sumPositives + sumNegatives)) * 100)\n",
                "    .round(2)\n",
                "    .alias(\"Responses %\"),\n",
                "    ((BinPositives / sumPositives) * 100).round(2).alias(\"Positives %\"),\n",
                "    ((BinNegatives / sumNegatives) * 100).round(2).alias(\"Negatives %\"),\n",
                "    (BinPositives / (BinPositives + BinNegatives)).round(4).alias(\"Propensity\"),\n",
                ")\n",
                "binningDerived.to_pandas(use_pyarrow_extension_array=True).set_index(\n",
                "    \"Range/Symbol\"\n",
                ").style.format(format_binning_derived).set_properties(\n",
                "    color=\"#0000FF\", subset=[\"Responses %\", \"Positives %\", \"Negatives %\", \"Propensity\"]\n",
                ")"
            ]
        },
        {
            "attachments": {},
            "cell_type": "markdown",
            "metadata": {},
            "source": [
                "### Lift"
            ]
        },
        {
            "attachments": {},
            "cell_type": "markdown",
            "metadata": {},
            "source": [
                "Lift is the ratio of the propensity in a particular bin over the average propensity. So a value of 1 is the average, larger than 1 means higher propensity, smaller means lower propensity:"
            ]
        },
        {
            "cell_type": "code",
            "execution_count": null,
            "metadata": {},
            "outputs": [],
            "source": [
                "Positives = pl.col(\"Positives\")\n",
                "Negatives = pl.col(\"Negatives\")\n",
                "sumPositives = pl.sum(\"Positives\")\n",
                "sumNegatives = pl.sum(\"Negatives\")\n",
                "binningDerived.select(\n",
                "    \"Range/Symbol\",\n",
                "    \"Positives\",\n",
                "    \"Negatives\",\n",
                "    (\n",
                "        (Positives / (Positives + Negatives))\n",
                "        / (sumPositives / (Positives + Negatives).sum())\n",
                "    ).alias(\"Lift\"),\n",
                ").to_pandas().set_index(\"Range/Symbol\").style.format(format_lift).set_properties(\n",
                "    **{\"color\": \"blue\"}, subset=[\"Lift\"]\n",
                ")"
            ]
        },
        {
            "attachments": {},
            "cell_type": "markdown",
            "metadata": {},
            "source": [
                "### Z-Ratio"
            ]
        },
        {
            "attachments": {},
            "cell_type": "markdown",
            "metadata": {},
            "source": [
                "The Z-Ratio is also a measure of the how the propensity in a bin differs from the average, but takes into account the size of the bin and thus is statistically more relevant. It represents the number of standard deviations from the average, so centers around 0. The wider the spread, the better the predictor is.\n",
                "$$\\frac{posFraction-negFraction}{\\sqrt(\\frac{posFraction*(1-posFraction)}{\\sum positives}+\\frac{negFraction*(1-negFraction)}{\\sum negatives})}$$ \n",
                "\n",
                "See the calculation here, which is also included in [cdh_utils' zRatio()](https://pegasystems.github.io/pega-datascientist-tools/Python/autoapi/pdstools/utils/cdh_utils/index.html#pdstools.utils.cdh_utils.zRatio)."
            ]
        },
        {
            "cell_type": "code",
            "execution_count": null,
            "metadata": {},
            "outputs": [],
            "source": [
                "def zRatio(\n",
                "    posCol: pl.Expr = pl.col(\"BinPositives\"), negCol: pl.Expr = pl.col(\"BinNegatives\")\n",
                ") -> pl.Expr:\n",
                "    def getFracs(posCol=pl.col(\"BinPositives\"), negCol=pl.col(\"BinNegatives\")):\n",
                "        return posCol / posCol.sum(), negCol / negCol.sum()\n",
                "\n",
                "    def zRatioimpl(\n",
                "        posFractionCol=pl.col(\"posFraction\"),\n",
                "        negFractionCol=pl.col(\"negFraction\"),\n",
                "        PositivesCol=pl.sum(\"BinPositives\"),\n",
                "        NegativesCol=pl.sum(\"BinNegatives\"),\n",
                "    ):\n",
                "        return (\n",
                "            (posFractionCol - negFractionCol)\n",
                "            / (\n",
                "                (posFractionCol * (1 - posFractionCol) / PositivesCol)\n",
                "                + (negFractionCol * (1 - negFractionCol) / NegativesCol)\n",
                "            ).sqrt()\n",
                "        ).alias(\"ZRatio\")\n",
                "\n",
                "    return zRatioimpl(*getFracs(posCol, negCol), posCol.sum(), negCol.sum())\n",
                "\n",
                "\n",
                "binningDerived.select(\n",
                "    \"Range/Symbol\", \"Positives\", \"Negatives\", \"Positives %\", \"Negatives %\"\n",
                ").with_columns(zRatio(Positives, Negatives)).to_pandas().set_index(\n",
                "    \"Range/Symbol\"\n",
                ").style.format(format_z_ratio).set_properties(**{\"color\": \"blue\"}, subset=[\"ZRatio\"])"
            ]
        },
        {
            "attachments": {},
            "cell_type": "markdown",
            "metadata": {},
            "source": [
                "## Predictor AUC\n"
            ]
        },
        {
            "attachments": {},
            "cell_type": "markdown",
            "metadata": {},
            "source": [
                "The predictor AUC is the univariate performance of this predictor against the outcome. This too can be derived from the positives and negatives and\n",
                "there is  a convenient function in pdstools to calculate it directly from the positives and negatives.\n",
                "\n",
                "This function is implemented in cdh_utils: [cdh_utils.auc_from_bincounts()](https://pegasystems.github.io/pega-datascientist-tools/Python/autoapi/pdstools/utils/cdh_utils/index.html#pdstools.utils.cdh_utils.auc_from_bincounts)."
            ]
        },
        {
            "cell_type": "code",
            "execution_count": null,
            "metadata": {},
            "outputs": [],
            "source": [
                "pos = binningDerived.get_column(\"Positives\").to_numpy()\n",
                "neg = binningDerived.get_column(\"Negatives\").to_numpy()\n",
                "probs = binningDerived.get_column(\"Propensity\").to_numpy()\n",
                "order = np.argsort(probs)\n",
                "\n",
                "FPR = np.cumsum(neg[order]) / np.sum(neg[order])\n",
                "TPR = np.cumsum(pos[order]) / np.sum(pos[order])\n",
                "TPR = np.insert(TPR, 0, 0, axis=0)\n",
                "FPR = np.insert(FPR, 0, 0, axis=0)\n",
                "# Checking whether classifier labels are correct\n",
                "if TPR[1] < 1 - FPR[1]:\n",
                "    temp = FPR\n",
                "    FPR = TPR\n",
                "    TPR = temp\n",
                "auc = cdh_utils.auc_from_bincounts(pos=pos, neg=neg, probs=probs)\n",
                "\n",
                "fig = px.line(\n",
                "    x=[1 - x for x in FPR],\n",
                "    y=TPR,\n",
                "    labels=dict(x=\"Specificity\", y=\"Sensitivity\"),\n",
                "    title=f\"AUC = {auc.round(3)}\",\n",
                "    width=700,\n",
                "    height=700,\n",
                "    range_x=[1, 0],\n",
                "    template=\"none\",\n",
                ")\n",
                "fig.add_shape(type=\"line\", line=dict(dash=\"dash\"), x0=1, x1=0, y0=0, y1=1)\n",
                "fig.show()\n"
            ]
        },
        {
            "cell_type": "markdown",
            "metadata": {},
            "source": [
                "## Naive Bayes and Log Odds"
            ]
        },
        {
            "cell_type": "markdown",
            "metadata": {},
            "source": [
                "The basis for the Naive Bayes algorithm is Bayes' Theorem:\n",
                "\n",
                "$$p(C_k|x) = \\frac{p(x|C_k)*p(C_k)}{p(x)}$$\n",
                "\n",
                "with $C_k$ the outcome and $x$ the customer. Bayes' theorem turns the\n",
                "question \"what's the probability to accept this action given a customer\" around to \n",
                "\"what's the probability of this customer given an action\". With the independence\n",
                "assumption, and after applying a log odds transformation we get a log odds score \n",
                "that can be calculated efficiently and in a numerically stable manner:\n",
                "\n",
                "$$log\\ odds\\ score = \\sum_{p\\ \\in\\ active\\ predictors}log(p(x_p|Positive)) + log(p_{positive}) - \\sum_plog(p(x_p|Negative)) - log(p_{negative})$$\n",
                "note that the _prior_ can be written as:\n",
                "\n",
                "$$log(p_{positive}) - log(p_{negative}) = log(\\frac{TotalPositives}{Total})-log(\\frac{TotalNegatives}{Total}) = log(TotalPositives) - log(TotalNegatives)$$\n"
            ]
        },
        {
            "attachments": {},
            "cell_type": "markdown",
            "metadata": {},
            "source": [
                "## Predictor Contribution"
            ]
        },
        {
            "attachments": {},
            "cell_type": "markdown",
            "metadata": {},
            "source": [
                "The contribution (_conditional log odds_) of an active predictor $p$ for bin $i$ with the number\n",
                "of positive and negative responses in $Positives_i$ and $Negatives_i$ is calculated as (note the \"laplace smoothing\" to avoid log 0 issues):\n",
                "\n",
                "$$contribution_p = \\log(Positives_i+\\frac{1}{nBins}) - \\log(Negatives_i+\\frac{1}{nBins}) - \\log(1+\\sum_{i\\ = 1..nBins}{Positives_i}) + \\log(1+\\sum_i{Negatives_i})$$\n"
            ]
        },
        {
            "cell_type": "code",
            "execution_count": null,
            "metadata": {},
            "outputs": [],
            "source": [
                "N = binningDerived.shape[0]\n",
                "binningDerived.with_columns(\n",
                "    LogOdds=(pl.col(\"Positives %\") / pl.col(\"Negatives %\")).log(),\n",
                "    ModifiedLogOdds=(\n",
                "        ((Positives + 1 / N).log() - (Positives.sum() + 1).log())\n",
                "        - ((Negatives + 1 / N).log() - (Negatives.sum() + 1).log())\n",
                "    ),\n",
                ").drop(\"Responses %\", \"Propensity\").to_pandas().set_index(\"Range/Symbol\").style.format(\n",
                "    format_log_odds\n",
                ").set_properties(**{\"color\": \"blue\"}, subset=[\"LogOdds\", \"ModifiedLogOdds\"])"
            ]
        },
        {
            "attachments": {},
            "cell_type": "markdown",
            "metadata": {},
            "source": [
                "## Propensity mapping"
            ]
        },
        {
            "attachments": {},
            "cell_type": "markdown",
            "metadata": {},
            "source": [
                "### Log odds contribution for all the predictors"
            ]
        },
        {
            "attachments": {},
            "cell_type": "markdown",
            "metadata": {},
            "source": [
                "The final score is loosely referred to as \"the average contribution\" but\n",
                "in fact is a little more nuanced. The final score is calculated as:\n",
                "\n",
                "$$score = \\frac{\\log(1 + TotalPositives) – \\log(1 + TotalNegatives) + \\sum_p contribution_p}{1 + nActivePredictors}$$\n",
                "\n",
                "Here, $TotalPositives$ and $TotalNegatives$ are the total number of\n",
                "positive and negative responses to the model.\n",
                "\n",
                "Below an example. From all the active predictors of the model \n",
                "we pick a value (in the middle for numerics, first symbol\n",
                "for symbolics) and show the (modified) log odds. The final score is\n",
                "calculated per the above formula, and this is the value that is mapped\n",
                "to a propensity value by the classifier (which is constructed using the\n",
                "[PAV(A)](https://en.wikipedia.org/wiki/Isotonic_regression) algorithm).\n"
            ]
        },
        {
            "cell_type": "code",
            "execution_count": null,
            "metadata": {
                "tags": [
                    "remove_input"
                ]
            },
            "outputs": [],
            "source": [
                "def middleBin():\n",
                "    return pl.col(\"BinIndex\") == (pl.max(\"BinIndex\") / 2).floor().cast(pl.UInt32)\n",
                "\n",
                "\n",
                "if not all(\n",
                "    col in modelpredictors.columns for col in [\"BinLowerBound\", \"BinUpperBound\"]\n",
                "):\n",
                "\n",
                "    def extract_numbers_in_contents(s: str, index):\n",
                "        numbers = re.findall(r\"[-+]?\\d*\\.\\d+|\\d+\", s)\n",
                "        try:\n",
                "            number = float(numbers[index])\n",
                "        except:\n",
                "            number = 0\n",
                "        return number\n",
                "\n",
                "    modelpredictors = modelpredictors.with_columns(\n",
                "        pl.col(\"Contents\").cast(pl.Utf8)\n",
                "    ).with_columns(\n",
                "        pl.when(pl.col(\"Type\") == \"numeric\")\n",
                "        .then(\n",
                "            pl.col(\"Contents\").map_elements(\n",
                "                lambda col: extract_numbers_in_contents(col, 0)\n",
                "            )\n",
                "        )\n",
                "        .otherwise(pl.lit(-9999))\n",
                "        .alias(\"BinLowerBound\")\n",
                "        .cast(pl.Float32),\n",
                "        pl.when(pl.col(\"Type\") == \"numeric\")\n",
                "        .then(\n",
                "            pl.col(\"Contents\").map_elements(\n",
                "                lambda col: extract_numbers_in_contents(col, 1)\n",
                "            )\n",
                "        )\n",
                "        .otherwise(pl.lit(-9999))\n",
                "        .alias(\"BinUpperBound\")\n",
                "        .cast(pl.Float32),\n",
                "    )\n",
                "\n",
                "\n",
                "def RowWiseLogOdds(Bin, Positives, Negatives):\n",
                "    Bin, N = Bin.list.get(0) - 1, Positives.list.len()\n",
                "    Pos, Neg = Positives.list.get(Bin), Negatives.list.get(Bin)\n",
                "    PosSum, NegSum = Positives.list.sum(), Negatives.list.sum()\n",
                "    return (\n",
                "        ((Pos + (1 / N)).log() - (PosSum + 1).log())\n",
                "        - (((Neg + (1 / N)).log()) - (NegSum + 1).log())\n",
                "    ).alias(\"Modified Log odds\")\n",
                "\n",
                "\n",
                "df = (\n",
                "    modelpredictors.filter(pl.col(\"PredictorName\") != \"Classifier\")\n",
                "    .group_by(\"PredictorName\")\n",
                "    .agg(\n",
                "        Value=pl.when(pl.col(\"Type\").first() == \"numeric\")\n",
                "        .then(\n",
                "            ((pl.col(\"BinLowerBound\") + pl.col(\"BinUpperBound\")) / 2).where(middleBin())\n",
                "        )\n",
                "        .otherwise(pl.col(\"BinSymbol\").str.split(\",\").list.first().where(middleBin())),\n",
                "        Bin=pl.col(\"BinIndex\").where(middleBin()),\n",
                "        Positives=pl.col(\"BinPositives\"),\n",
                "        Negatives=pl.col(\"BinNegatives\"),\n",
                "    )\n",
                "    .with_columns(\n",
                "        pl.col([\"Positives\", \"Negatives\"]).list.get(pl.col(\"Bin\").list.get(0) - 1),\n",
                "        pl.col(\"Bin\", \"Value\").list.get(0),\n",
                "        LogOdds=RowWiseLogOdds(pl.col(\"Bin\"), pl.col(\"Positives\"), pl.col(\"Negatives\")),\n",
                "    )\n",
                "    .sort(\"PredictorName\")\n",
                ")\n",
                "\n",
                "classifier = (\n",
                "    modelpredictors.filter(pl.col(\"EntryType\") == \"Classifier\")\n",
                "    .with_columns(\n",
                "        Propensity=(BinPositives / (BinPositives / BinNegatives)),\n",
                "        AdjustedPropensity=((0.5 + BinPositives) / (1 + BinPositives + BinNegatives)),\n",
                "        ZRatio=cdh_utils.zRatio(negCol=BinNegatives, posCol=BinPositives),\n",
                "        Lift=(\n",
                "            (BinPositives / (BinPositives + BinNegatives))\n",
                "            / (sumPositives / (BinPositives + BinNegatives).sum())\n",
                "        ),\n",
                "    )\n",
                "    .select(\n",
                "        [\n",
                "            pl.col(\"BinIndex\").alias(\"Index\"),\n",
                "            pl.col(\"BinSymbol\").alias(\"Bin\"),\n",
                "            BinPositives.alias(\"Positives\"),\n",
                "            BinNegatives.alias(\"Negatives\"),\n",
                "            ((pl.cum_sum(\"BinResponseCount\") / pl.sum(\"BinResponseCount\")) * 100).alias(\n",
                "                \"Cum. Total (%)\"\n",
                "            ),\n",
                "            (pl.col(\"BinPropensity\") * 100).alias(\"Propensity (%)\"),\n",
                "            (pl.col(\"AdjustedPropensity\") * 100).alias(\"Adjusted Propensity (%)\"),\n",
                "            ((pl.cum_sum(\"BinPositives\") / pl.sum(\"BinPositives\")) * 100).alias(\n",
                "                \"Cum Positives (%)\"\n",
                "            ),\n",
                "            pl.col(\"ZRatio\"),\n",
                "            (pl.col(\"Lift\") * 100).alias(\"Lift(%)\"),\n",
                "            pl.col(\"BinResponseCount\").alias(\"Responses\"),\n",
                "        ]\n",
                "    )\n",
                ")\n",
                "classifierLogOffset = log(1 + classifier[\"Positives\"].sum()) - log(\n",
                "    1 + classifier[\"Negatives\"].sum()\n",
                ")\n",
                "\n",
                "propensity_mapping = (\n",
                "    df.vstack(\n",
                "        pl.DataFrame(\n",
                "            dict(\n",
                "                zip(\n",
                "                    df.columns,\n",
                "                    [\"Final Score\"]\n",
                "                    + [None] * 4\n",
                "                    + [(df[\"LogOdds\"].sum() + classifierLogOffset) / (len(df) + 1)],\n",
                "                )\n",
                "            ),\n",
                "            schema=df.schema,\n",
                "        )\n",
                "    )\n",
                "    .to_pandas()\n",
                "    .set_index(\"PredictorName\")\n",
                "    .style.set_properties(**{\"color\": \"blue\"}, subset=[\"LogOdds\"])\n",
                ")\n",
                "\n",
                "propensity_mapping"
            ]
        },
        {
            "attachments": {},
            "cell_type": "markdown",
            "metadata": {},
            "source": [
                "## Classifier"
            ]
        },
        {
            "attachments": {},
            "cell_type": "markdown",
            "metadata": {},
            "source": [
                "The success rate is defined as $\\frac{positives}{positives+negatives}$ per bin. \n",
                "\n",
                "The adjusted propensity that is returned is a small modification (Laplace smoothing) to this and calculated as $\\frac{0.5+positives}{1+positives+negatives}$ so empty models return a propensity of 0.5.\n"
            ]
        },
        {
            "cell_type": "code",
            "execution_count": null,
            "metadata": {
                "tags": [
                    "remove_input"
                ]
            },
            "outputs": [],
            "source": [
                "# TODO see if we can port the \"getActiveRanges\" code to python so to highlight the classifier rows that are \"active\"\n",
                "\n",
                "classifier.drop(\"Responses\").to_pandas().set_index(\"Index\").style.format(\n",
                "    format_classifier\n",
                ").set_properties(**{\"color\": \"blue\"}, subset=[\"Adjusted Propensity (%)\"])"
            ]
        },
        {
            "attachments": {},
            "cell_type": "markdown",
            "metadata": {},
            "source": [
                "## Final Propensity"
            ]
        },
        {
            "attachments": {},
            "cell_type": "markdown",
            "metadata": {},
            "source": [
                "Below the classifier mapping. On the x-axis the binned scores (log odds values), on the y-axis the Propensity. Note the returned propensities are following a slightly adjusted formula, see the table above. The bin that contains the calculated final score is highlighted."
            ]
        },
        {
            "cell_type": "code",
            "execution_count": null,
            "metadata": {
                "tags": [
                    "remove_input"
                ]
            },
            "outputs": [],
            "source": [
                "score = propensity_mapping.data.loc[\"Final Score\", \"LogOdds\"]\n",
                "score_bin = modelpredictors.filter(pl.col(\"EntryType\") == \"Classifier\").select(\n",
                "    pl.col(\"BinSymbol\").where(\n",
                "        pl.lit(score).is_between(pl.col(\"BinLowerBound\"), pl.col(\"BinUpperBound\"))\n",
                "    )\n",
                ")[\"BinSymbol\"][0]\n",
                "score_responses = modelpredictors.filter(\n",
                "    (pl.col(\"EntryType\") == \"Classifier\") & (pl.col(\"BinSymbol\") == score_bin)\n",
                ")[\"BinResponseCount\"][0]\n",
                "score_bin_index = (\n",
                "    modelpredictors.filter(pl.col(\"EntryType\") == \"Classifier\")[\"BinSymbol\"]\n",
                "    .to_list()\n",
                "    .index(score_bin)\n",
                ")\n",
                "score_propensity = classifier.to_pandas().iloc[score_bin_index][\n",
                "    \"Adjusted Propensity (%)\"\n",
                "]\n",
                "\n",
                "adjusted_propensity = (\n",
                "    modelpredictors.filter(pl.col(\"EntryType\") == \"Classifier\")\n",
                "    .with_columns(\n",
                "        AdjustedPropensity=((0.5 + BinPositives) / (1 + BinPositives + BinNegatives)),\n",
                "    )\n",
                "    .select(\n",
                "        pl.col(\"AdjustedPropensity\").where(\n",
                "            (pl.col(\"BinLowerBound\") < score) & (pl.col(\"BinUpperBound\") > score)\n",
                "        )\n",
                "    )[\"AdjustedPropensity\"][0]\n",
                "    * 100\n",
                ")\n",
                "adjusted_propensity = round(adjusted_propensity, 2)\n",
                "\n",
                "fig = ADMVisualisations.distribution_graph(\n",
                "    modelpredictors.filter(pl.col(\"EntryType\") == \"Classifier\"),\n",
                "    \"Propensity distribution\",\n",
                ").add_annotation(\n",
                "    x=score_bin,\n",
                "    y=score_propensity / 100,\n",
                "    text=f\"Returned propensity: {score_propensity:.2f}%\",\n",
                "    bgcolor=\"#FFFFFF\",\n",
                "    bordercolor=\"#000000\",\n",
                "    showarrow=False,\n",
                "    yref=\"y2\",\n",
                "    opacity=0.7,\n",
                ")\n",
                "bin_index = list(fig.data[0][\"x\"]).index(score_bin)\n",
                "fig.data[0][\"marker_color\"] = (\n",
                "    [\"grey\"] * bin_index\n",
                "    + [\"#1f77b4\"]\n",
                "    + [\"grey\"] * (classifier.shape[0] - bin_index - 1)\n",
                ")\n",
                "fig"
            ]
        }
    ],
    "metadata": {
        "kernelspec": {
            "display_name": "playground",
            "language": "python",
            "name": "python3"
        },
        "language_info": {
            "codemirror_mode": {
                "name": "ipython",
                "version": 3
            },
            "file_extension": ".py",
            "mimetype": "text/x-python",
            "name": "python",
            "nbconvert_exporter": "python",
            "pygments_lexer": "ipython3",
            "version": "3.12.4"
        },
        "orig_nbformat": 4
    },
    "nbformat": 4,
    "nbformat_minor": 2
}
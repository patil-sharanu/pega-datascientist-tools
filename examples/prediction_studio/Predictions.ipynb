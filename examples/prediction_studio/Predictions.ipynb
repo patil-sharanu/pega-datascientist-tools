{
 "cells": [
  {
   "cell_type": "markdown",
   "metadata": {},
   "source": [
    "# Predictions Overview\n",
    "\n",
    "This is a small notebook to report and analyse Prediction Studio data on Predictions. The underlying data is from the Data-DM-Snapshot table that is used to populate the Prediction Studio screen with Prediction Performance, Lift, CTR etc.\n",
    "\n",
    "As data this notebook accept data exported from PDC - which has a slightly altered format - as well as data directly exported from the pyGetSnapshot dataset in Pega.\n",
    "\n",
    "For a description of the datamart tables see https://docs-previous.pega.com/decision-management/87/database-tables-monitoring-models.\n",
    "\n",
    "Disclaimer: this is not a canned, robust and customer-facing notebook (yet). It's mostly used internally to validate Prediction data. Column names and file formats may need some more review to make it more robust."
   ]
  },
  {
   "cell_type": "code",
   "execution_count": 1,
   "metadata": {},
   "outputs": [],
   "source": [
    "import polars as pl"
   ]
  },
  {
   "cell_type": "code",
   "execution_count": null,
   "metadata": {},
   "outputs": [],
   "source": [
    "from pathlib import Path\n",
    "import sys\n",
    "import polars as pl\n",
    "import json\n",
    "from pdstools import readDSExport, Prediction\n",
    "\n",
    "data_export = \"<Your Export Here>\"\n",
    "\n",
    "prediction = None\n",
    "if data_export.endswith(\".parquet\"):\n",
    "    predictions_raw_data = pl.read_parquet(Path(data_export).expanduser())\n",
    "    prediction = Prediction(predictions_raw_data.lazy())\n",
    "elif data_export.endswith(\".json\"):\n",
    "    print(\"Import of PDC JSON data not supported\")\n",
    "    sys.exit()\n",
    "elif data_export.endswith(\".zip\"):\n",
    "    # Assuming a direct export from the dataset\n",
    "    predictions_raw_data = readDSExport(data_export).collect()\n",
    "    prediction = Prediction(predictions_raw_data.lazy())\n",
    "\n",
    "predictions_raw_data.head().to_pandas().style"
   ]
  },
  {
   "cell_type": "markdown",
   "metadata": {},
   "source": [
    "Peek at the internal data"
   ]
  },
  {
   "cell_type": "code",
   "execution_count": null,
   "metadata": {},
   "outputs": [],
   "source": [
    "prediction.predictions.head().collect().to_pandas().style"
   ]
  },
  {
   "cell_type": "markdown",
   "metadata": {},
   "source": [
    "Summary by Channel, over all time"
   ]
  },
  {
   "cell_type": "code",
   "execution_count": null,
   "metadata": {},
   "outputs": [],
   "source": [
    "prediction.summary_by_channel().collect().to_pandas().style"
   ]
  },
  {
   "cell_type": "markdown",
   "metadata": {},
   "source": [
    "Quick glance at the available data aggregated by day."
   ]
  },
  {
   "cell_type": "code",
   "execution_count": 5,
   "metadata": {},
   "outputs": [],
   "source": [
    "prediction_summary_by_channel = (\n",
    "    prediction.summary_by_channel(by_period=\"1d\")\n",
    "    .with_columns(Prediction=pl.format(\"{} ({})\", pl.col.Channel, pl.col.ModelName))\n",
    "    .collect()\n",
    ")"
   ]
  },
  {
   "cell_type": "code",
   "execution_count": null,
   "metadata": {},
   "outputs": [],
   "source": [
    "import plotly.express as px\n",
    "\n",
    "px.line(\n",
    "    prediction_summary_by_channel.filter(pl.col(\"isMultiChannelPrediction\").not_())\n",
    "    .filter(pl.col(\"Channel\") != \"Unknown\")\n",
    "    .sort([\"Period\"]),\n",
    "    x=\"Period\",\n",
    "    y=\"Performance\",\n",
    "    color=\"Prediction\",\n",
    "    title=\"Prediction Performance\",\n",
    ")"
   ]
  },
  {
   "cell_type": "code",
   "execution_count": null,
   "metadata": {},
   "outputs": [],
   "source": [
    "px.line(\n",
    "    prediction_summary_by_channel.filter(pl.col(\"isMultiChannelPrediction\").not_())\n",
    "    .filter(pl.col(\"Channel\") != \"Unknown\")\n",
    "    .sort([\"Period\"]),\n",
    "    x=\"Period\",\n",
    "    y=\"Lift\",\n",
    "    color=\"Prediction\",\n",
    "    title=\"Prediction Lift\",\n",
    ").update_yaxes(tickformat=\",.2%\")"
   ]
  },
  {
   "cell_type": "code",
   "execution_count": null,
   "metadata": {},
   "outputs": [],
   "source": [
    "px.line(\n",
    "    prediction_summary_by_channel.filter(pl.col(\"isMultiChannelPrediction\").not_())\n",
    "    .filter(pl.col(\"Channel\") != \"Unknown\")\n",
    "    .sort([\"Period\"]),\n",
    "    x=\"Period\",\n",
    "    y=\"CTR\",\n",
    "    facet_row=\"Prediction\",\n",
    "    color=\"Prediction\",\n",
    "    title=\"Prediction CTR\",\n",
    ").update_yaxes(tickformat=\",.3%\", matches=None).for_each_annotation(\n",
    "    lambda a: a.update(text=\"\")\n",
    ")"
   ]
  },
  {
   "cell_type": "code",
   "execution_count": null,
   "metadata": {},
   "outputs": [],
   "source": [
    "px.line(\n",
    "    prediction_summary_by_channel.filter(pl.col(\"isMultiChannelPrediction\").not_())\n",
    "    .filter(pl.col(\"Channel\") != \"Unknown\")\n",
    "    .sort([\"Period\"]),\n",
    "    x=\"Period\",\n",
    "    y=\"ResponseCount\",\n",
    "    facet_row=\"Prediction\",\n",
    "    color=\"Prediction\",\n",
    "    title=\"Prediction Responses\",\n",
    ").update_yaxes(matches=None).for_each_annotation(lambda a: a.update(text=\"\"))"
   ]
  }
 ],
 "metadata": {
  "kernelspec": {
   "display_name": "Python 3",
   "language": "python",
   "name": "python3"
  },
  "language_info": {
   "codemirror_mode": {
    "name": "ipython",
    "version": 3
   },
   "file_extension": ".py",
   "mimetype": "text/x-python",
   "name": "python",
   "nbconvert_exporter": "python",
   "pygments_lexer": "ipython3",
   "version": "3.12.3"
  },
  "orig_nbformat": 4
 },
 "nbformat": 4,
 "nbformat_minor": 2
}
